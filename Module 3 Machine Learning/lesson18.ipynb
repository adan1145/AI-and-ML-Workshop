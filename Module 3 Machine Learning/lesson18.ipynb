{
 "cells": [
  {
   "cell_type": "code",
   "execution_count": null,
   "metadata": {},
   "outputs": [],
   "source": [
    "import pandas as pd\n",
    "from sklearn.ensemble import RandomForestRegressor,GradientBoostingRegressor,BaggingRegressor,ExtraTreesRegressor\n",
    "from sklearn.linear_model import LinearRegression,LogisticRegression,Lasso,Ridge,ElasticNet\n",
    "from sklearn.metrics import mean_absolute_error\n",
    "from sklearn.model_selection import train_test_split,cross_val_score,KFold,StratifiedKFold,GridSearchCV, RandomizedSearchCV\n",
    "from sklearn.preprocessing import LabelEncoder\n",
    "from sklearn.preprocessing import OneHotEncoder\n",
    "from sklearn.preprocessing import MinMaxScaler, RobustScaler, StandardScaler\n",
    "from sklearn.impute import SimpleImputer\n",
    "from mlxtend.regressor import StackingCVRegressor\n",
    "from scipy.stats import skew,randint\n",
    "import numpy as np\n",
    "from time import time\n",
    "import preprocess"
   ]
  },
  {
   "cell_type": "code",
   "execution_count": null,
   "metadata": {},
   "outputs": [],
   "source": [
    "%load_ext autoreload\n",
    "%autoreload 2"
   ]
  },
  {
   "cell_type": "markdown",
   "metadata": {},
   "source": [
    "## Model Stacking for better performance"
   ]
  },
  {
   "cell_type": "markdown",
   "metadata": {},
   "source": [
    "### Stacking Model"
   ]
  },
  {
   "cell_type": "code",
   "execution_count": null,
   "metadata": {},
   "outputs": [],
   "source": [
    "params = {'n_estimators':[100,200,300,400,500,1500],\n",
    "           \"max_features\": randint(100,248),\n",
    "           \"min_samples_split\": randint(2, 11),\n",
    "           \"min_samples_leaf\": randint(1, 11),\n",
    "           \"subsample\":[0.6,0.7,0.75,0.8,0.9]\n",
    "         }\n",
    "\n",
    "kfolds = KFold(n_splits=10, shuffle=True, random_state=42)\n",
    "\n",
    "start = time()\n",
    "randomSearch_gb = RandomizedSearchCV(GradientBoostingRegressor(warm_start=True),\n",
    "                                     param_distributions=params,n_iter=20,\n",
    "                                     cv=kfolds,n_jobs=6)       \n",
    "\n",
    "params_rf = {'n_estimators':[300,500,800,1100,1500,1800],\n",
    "              \"min_samples_split\": randint(2, 11),\n",
    "              \"min_samples_leaf\": randint(1, 11)\n",
    "         }\n",
    "\n",
    "randomSearch_rf = RandomizedSearchCV(RandomForestRegressor(warm_start=True),\n",
    "                                     param_distributions=params_rf,cv=kfolds,\n",
    "                                     n_jobs=-1, n_iter=20)        \n",
    "\n",
    "params_elastic = {'alpha':[0.001,0.01,0.1,1.],\n",
    "          'l1_ratio': [0.4,0.5,0.6,0.7,0.8,0.9],\n",
    "          'max_iter':[1000,2000,5000,10000],\n",
    "          'selection':['cyclic','random']\n",
    "         }\n",
    "\n",
    "randomSearch_elastic = RandomizedSearchCV(ElasticNet(warm_start=True),param_distributions=params_elastic,\n",
    "                                          cv=kfolds,n_jobs=-1, n_iter=20)        \n"
   ]
  },
  {
   "cell_type": "code",
   "execution_count": null,
   "metadata": {},
   "outputs": [],
   "source": [
    "models = [('RF',randomSearch_rf),\n",
    "              ('GB',randomSearch_gb),\n",
    "              ('ET',ExtraTreesRegressor(n_estimators=500, random_state=100)),\n",
    "              ('LR',LinearRegression()),\n",
    "              ('Lasso',Lasso(max_iter=10000,random_state=100)),\n",
    "              ('Ridge',Ridge(random_state=100)),\n",
    "              ('Elastic',randomSearch_elastic)\n",
    "             ]\n",
    "\n",
    "stacked_models = tuple([model[1] for model in models])"
   ]
  },
  {
   "cell_type": "code",
   "execution_count": null,
   "metadata": {},
   "outputs": [],
   "source": [
    "models = [('RF',randomSearch_rf),\n",
    "           ('GB',randomSearch_gb),\n",
    "           ('Elastic',randomSearch_elastic)\n",
    "         ]\n",
    "\n",
    "stacked_models = tuple([model[1] for model in models])"
   ]
  },
  {
   "cell_type": "code",
   "execution_count": null,
   "metadata": {},
   "outputs": [],
   "source": []
  },
  {
   "cell_type": "code",
   "execution_count": null,
   "metadata": {},
   "outputs": [],
   "source": [
    "stack_gen = StackingCVRegressor(regressors=stacked_models,\n",
    "                                meta_regressor= models[1][1],\n",
    "                                use_features_in_secondary=True)\n"
   ]
  },
  {
   "cell_type": "code",
   "execution_count": null,
   "metadata": {},
   "outputs": [],
   "source": [
    "def advanced_feature_eng(df):\n",
    "    df['Total_porch_SF'] = (df['OpenPorchSF'] + df['3SsnPorch'] +\n",
    "                              df['EnclosedPorch'] + df['ScreenPorch'] +\n",
    "                              df['WoodDeckSF'])\n",
    "    df['Total_SF'] = df['TotalBsmtSF'] + df['1stFlrSF'] + df['2ndFlrSF']\n",
    "    df['Total_SF_2'] = (df['BsmtFinSF1'] + df['BsmtFinSF2'] +\n",
    "                           df['1stFlrSF'] + df['2ndFlrSF'])\n",
    "    df['Total_Bathrooms'] = (df['FullBath'] + (0.5 * df['HalfBath']) +\n",
    "                                   df['BsmtFullBath'] + (0.5 * df['BsmtHalfBath']))\n",
    "    df['haspool'] = df['PoolArea'].apply(lambda x: 1 if x > 0 else 0)\n",
    "    df['has2ndfloor'] = df['2ndFlrSF'].apply(lambda x: 1 if x > 0 else 0)\n",
    "    df['hasgarage'] = df['GarageArea'].apply(lambda x: 1 if x > 0 else 0)\n",
    "    df['hasbsmt'] = df['TotalBsmtSF'].apply(lambda x: 1 if x > 0 else 0)\n",
    "    df['hasfireplace'] = df['Fireplaces'].apply(lambda x: 1 if x > 0 else 0)\n",
    "    \n",
    "    return df"
   ]
  },
  {
   "cell_type": "code",
   "execution_count": null,
   "metadata": {},
   "outputs": [],
   "source": [
    "X = pd.read_csv('../datasets/iowa_housing/train.csv', index_col='Id') \n",
    "X_test = pd.read_csv('../datasets/iowa_housing/test.csv', index_col='Id')\n",
    "X = advanced_feature_eng(X)\n",
    "X_test = advanced_feature_eng(X_test)\n",
    "pre_processed = preprocess.preprocess_df(X,'SalePrice',X_test,one_hot=True,scaler=RobustScaler)\n",
    "splits = pre_processed.split_df(stratify=pre_processed.X['OverallQual'])\n",
    "X_train,X_valid,y_train,y_valid = splits['X_train'],splits['X_test'],splits['y_train'],splits['y_test']\n"
   ]
  },
  {
   "cell_type": "code",
   "execution_count": null,
   "metadata": {},
   "outputs": [],
   "source": [
    "stack_gen_model = stack_gen.fit(np.array(X_train), np.array(y_train))\n",
    "preds = stack_gen_model.predict(np.array(X_valid))\n",
    "mean_absolute_error(y_valid,preds)"
   ]
  },
  {
   "cell_type": "code",
   "execution_count": null,
   "metadata": {},
   "outputs": [],
   "source": []
  },
  {
   "cell_type": "code",
   "execution_count": null,
   "metadata": {},
   "outputs": [],
   "source": [
    "preds_test = stack_gen_model.predict(pre_processed.X_test)\n",
    "output = pd.DataFrame({'Id': X_test.index,\n",
    "                       'SalePrice': preds_test})\n",
    "output.to_csv('submission4.csv', index=False)\n"
   ]
  },
  {
   "cell_type": "code",
   "execution_count": null,
   "metadata": {},
   "outputs": [],
   "source": []
  }
 ],
 "metadata": {
  "kernelspec": {
   "display_name": "Python 3",
   "language": "python",
   "name": "python3"
  },
  "language_info": {
   "codemirror_mode": {
    "name": "ipython",
    "version": 3
   },
   "file_extension": ".py",
   "mimetype": "text/x-python",
   "name": "python",
   "nbconvert_exporter": "python",
   "pygments_lexer": "ipython3",
   "version": "3.7.1"
  }
 },
 "nbformat": 4,
 "nbformat_minor": 2
}
