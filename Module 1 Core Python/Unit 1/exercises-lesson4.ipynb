{
 "cells": [
  {
   "cell_type": "markdown",
   "metadata": {},
   "source": [
    "#### Exercise 1\n",
    "Convert the following Python code based on explicit list creation to use List Comprehension"
   ]
  },
  {
   "cell_type": "code",
   "execution_count": null,
   "metadata": {},
   "outputs": [],
   "source": [
    "numbers = range(10)\n",
    "new_list = []\n",
    "for n in numbers:\n",
    "    if n%2==0:\n",
    "        new_list.append(n**2)\n",
    "\n",
    "print(new_list)"
   ]
  },
  {
   "cell_type": "markdown",
   "metadata": {},
   "source": [
    "#### Exercise 2\n",
    "Given the list:\n",
    "\n",
    "list_of_strings = [\"Hello\", \"World\", \"In\", \"Python\"]\n",
    "\n",
    "Write Python code that uses a list comprehension to convert all the list elements to lowercase"
   ]
  },
  {
   "cell_type": "code",
   "execution_count": null,
   "metadata": {},
   "outputs": [],
   "source": []
  },
  {
   "cell_type": "markdown",
   "metadata": {},
   "source": [
    "#### Exercise 3\n",
    "Convert the following Python code based on explicit list creation to use List Comprehension"
   ]
  },
  {
   "cell_type": "code",
   "execution_count": null,
   "metadata": {},
   "outputs": [],
   "source": [
    "list_a = [1, 2, 3, 4]\n",
    "list_b = [2, 3, 4, 5]\n",
    "\n",
    "common_num = []\n",
    "\n",
    "for a in list_a:\n",
    "    for b in list_b:\n",
    "        if a == b:\n",
    "            common_num.append(a)\n",
    "      \n",
    "print(common_num)  # Output [2, 3, 4]"
   ]
  },
  {
   "cell_type": "markdown",
   "metadata": {},
   "source": [
    "#### Exercise 4\n",
    "* Create a new dictionary using dictionary comprehension where the key is an odd number in a range of 0 to 10 and it's value is the square of the number"
   ]
  },
  {
   "cell_type": "code",
   "execution_count": null,
   "metadata": {},
   "outputs": [],
   "source": []
  },
  {
   "cell_type": "markdown",
   "metadata": {},
   "source": [
    "#### Exercise 5\n",
    " * For the list given below, use dictionary comprehension to create a dictionary with the list elements as the keys and the length of each string as the values.\n",
    "\n",
    "fruits = ['apple', 'mango', 'banana','cherry']"
   ]
  },
  {
   "cell_type": "code",
   "execution_count": null,
   "metadata": {},
   "outputs": [],
   "source": []
  },
  {
   "cell_type": "markdown",
   "metadata": {},
   "source": [
    "#### Exercise 6\n",
    "* Define function make_doctor()  that takes a parameter name and adds the Doctor title to the passed argument\n",
    "* Get user input for variable full_name\n",
    "* Call the function using full_name as argument\n",
    "* print the return value"
   ]
  },
  {
   "cell_type": "code",
   "execution_count": null,
   "metadata": {},
   "outputs": [],
   "source": []
  },
  {
   "cell_type": "markdown",
   "metadata": {},
   "source": [
    "#### Exercise 7\n",
    "* Start with the example function make_schedule in the tutorial\n",
    "* Add a parameter period_3\n",
    "* update function code to add period_3 to the schedule\n",
    "* Call student_schedule() with an additional argument such as 'science' \n",
    "* print the schedule\n",
    "* Create and print a schedule of 6 periods using the function"
   ]
  },
  {
   "cell_type": "code",
   "execution_count": null,
   "metadata": {},
   "outputs": [],
   "source": []
  },
  {
   "cell_type": "markdown",
   "metadata": {},
   "source": [
    "#### Exercise 8\n",
    "* Define a function that takes an integer as an argument. \n",
    "* Checks that it is positive. Returns an error if it is -ve\n",
    "* Calculates the factorial of the integer and returns the result"
   ]
  },
  {
   "cell_type": "code",
   "execution_count": null,
   "metadata": {},
   "outputs": [],
   "source": []
  },
  {
   "cell_type": "markdown",
   "metadata": {},
   "source": [
    "#### Exercise 9\n",
    "Modify the following program such that the dictionary keys ['a', 'b'] are printed out instead of ['dd']"
   ]
  },
  {
   "cell_type": "code",
   "execution_count": null,
   "metadata": {},
   "outputs": [],
   "source": [
    "def example_func(x, y, **other): # variable keyword arguments\n",
    "    d = other['dd']\n",
    "    print(d.keys())\n",
    "    \n",
    "def foo(a,b,**other):\n",
    "    example_func(2, y=\"1\",dd=other)\n",
    "\n",
    "d = {'a':1,'b':2}\n",
    "foo(1,2,dd=d)\n"
   ]
  },
  {
   "cell_type": "markdown",
   "metadata": {},
   "source": [
    "#### Exercise 10\n",
    "* Write a Lambda function that takes a character and returns True if the character is a vowel, False otherwise\n",
    "* Create a function count_vowels that takes a string s and an argument called action\n",
    "* The function should split the string s on whitespace and then using map, action and list splitting as building blocks, the function should return the number of vowels in the string s\n",
    "* Call count_vowels on a test string containing multiple words   "
   ]
  },
  {
   "cell_type": "code",
   "execution_count": null,
   "metadata": {},
   "outputs": [],
   "source": [
    "s = 'this is a test' # test the code with different such strings\n",
    "def count_vowels(s,action):\n",
    "    # split the string s after converting it to lower case\n",
    "    # using map and action, return the count of vowels in s\n",
    "\n",
    "count_vowels(s,## TODO: your lambda code here)"
   ]
  },
  {
   "cell_type": "markdown",
   "metadata": {},
   "source": [
    "#### Exercise 11\n",
    "* Write a decorator function that wraps the given function such that the two arguments a and b passed to the given function are checked such that both are numbers between -100 and 100 and b is not zero (to avoid divide by zero).\n",
    "* If any of the above check fails, the given function should not be called and an error should be printed instead and None is returned.\n",
    "* If the arguments pass these sanity checks, then the wrapper function should pass them to the given function which simply returns the result of division of a by b.\n",
    "* Use Python's decorator syntax in this code\n"
   ]
  },
  {
   "cell_type": "code",
   "execution_count": null,
   "metadata": {},
   "outputs": [],
   "source": []
  }
 ],
 "metadata": {
  "kernelspec": {
   "display_name": "Python 3",
   "language": "python",
   "name": "python3"
  },
  "language_info": {
   "codemirror_mode": {
    "name": "ipython",
    "version": 3
   },
   "file_extension": ".py",
   "mimetype": "text/x-python",
   "name": "python",
   "nbconvert_exporter": "python",
   "pygments_lexer": "ipython3",
   "version": "3.6.4"
  }
 },
 "nbformat": 4,
 "nbformat_minor": 2
}
