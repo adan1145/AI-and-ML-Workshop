{
 "cells": [
  {
   "cell_type": "markdown",
   "metadata": {},
   "source": [
    "#### Exercise 1\n",
    "\n",
    " * Use isalpha() on the string: \"Are spaces and punctuation Alphabetical?\"\n",
    " * initailize variable alpha_test with input(). Then use isalpha() on string variable alpha_test"
   ]
  },
  {
   "cell_type": "code",
   "execution_count": null,
   "metadata": {},
   "outputs": [],
   "source": []
  },
  {
   "cell_type": "markdown",
   "metadata": {},
   "source": [
    "#### Exercise 2\n",
    "* Get input for a variable, fav_food, that describes a favorite food\n",
    "* Display fav_food as ALL CAPS, used in a sentence\n",
    "* Display fav_food as all lower case, used in a sentence\n",
    "* Display fav_food with swapped case, used in a sentence\n",
    "* Display fav_food with capitalization, used in a sentence"
   ]
  },
  {
   "cell_type": "code",
   "execution_count": null,
   "metadata": {},
   "outputs": [],
   "source": []
  },
  {
   "cell_type": "markdown",
   "metadata": {},
   "source": [
    "#### Exercise 3\n",
    "* Given that menu = \"salad, pasta, sandwich, pizza, drinks, dessert\"\n",
    "* Create a program where a user can check via input() if an item is on the menu\n",
    "* store the user response in a variable menu_ask\n",
    "* The program should be able to ignore case mismatch so that \"hello\" is found in \"Hello World!\"\n",
    "* Print the current menu\n",
    "* Get user input for add_item variable\n",
    "* Add the new item to menu using string addition\n",
    "* Print the new updated menu\n",
    "* Again perform a check if an item is on the menu, check for previous items and the item you added"
   ]
  },
  {
   "cell_type": "code",
   "execution_count": null,
   "metadata": {},
   "outputs": [],
   "source": []
  },
  {
   "cell_type": "markdown",
   "metadata": {},
   "source": [
    "#### Exercise 4"
   ]
  },
  {
   "cell_type": "code",
   "execution_count": null,
   "metadata": {},
   "outputs": [],
   "source": [
    "### Fix the errors \n",
    "paint_colors = \"red, blue, green, black, orange, pink\"\n",
    "print('Red in paint colors = ',red in paint_colors)\n"
   ]
  },
  {
   "cell_type": "markdown",
   "metadata": {},
   "source": [
    "#### Exercise 5\n",
    "Given the string \n",
    "x = 'Learning Data Science with Python'\n",
    "\n",
    "Write Python statements to:\n",
    "* Get a substring containing 'thon'\n",
    "* Get a substring containing 'Data Science'\n",
    "* Get a substring containing 'Lann'\n",
    "* Return a Boolean True of False whether the first word of the string contains the letter 'a' "
   ]
  },
  {
   "cell_type": "markdown",
   "metadata": {},
   "source": [
    "#### Exercise 6\n",
    "* Create a Python list containing five integers\n",
    "* Write Python statements to extract:\n",
    "  - last element of list\n",
    "  - element at index 2\n",
    "  - elements from index 2 to 4 (4 included)\n",
    "  - elements from index 1 to 4 (4 excluded)\n",
    "  - last two elements\n"
   ]
  },
  {
   "cell_type": "code",
   "execution_count": null,
   "metadata": {},
   "outputs": [],
   "source": []
  },
  {
   "cell_type": "markdown",
   "metadata": {},
   "source": [
    "#### Exercise 7\n",
    "* Create two lists, one of 5 elements and second of 3 elements. Lists can be of any data types of your choice\n",
    "* Write Python statements to:\n",
    "  - Add list2 as a nested list at the end of list1\n",
    "  - Add list2 as a flattened list (individual elements of list2) to the end of list1\n",
    "  - Add list2 as a nested list at index 0 of list1 with existing element pushed to the next index\n",
    "  - Add list2 as a nested list at index 0 of list1 replacing the existing element\n",
    "  - Concatenate the two lists together and then replicate their contents three times\n",
    "  - Sort the list elements\n",
    "  - delete element at index 3\n",
    "  - delete any one of the elements of list1 with its value (you can choose any element to remove)\n",
    "  - print the elements of list1 sorted in descending order\n",
    "  - Create another list sorted in ascending order from list1 without changing list1\n"
   ]
  },
  {
   "cell_type": "code",
   "execution_count": null,
   "metadata": {},
   "outputs": [],
   "source": []
  },
  {
   "cell_type": "markdown",
   "metadata": {},
   "source": [
    "#### Exercise 8\n",
    "* Given the list x = [20, [21, 33, [10, ['Hello'], 12]]]\n",
    "  - Write a Python statement to print the word 'Hello' from this list as a single word and not a list"
   ]
  },
  {
   "cell_type": "markdown",
   "metadata": {},
   "source": [
    "#### Exercise 9\n",
    "\n",
    "* Create two lists of 10 words each with one or more words repeating in each one\n",
    "* Write Python statements to:\n",
    "  - Count the occurences of any word of your choice in list1\n",
    "  - Convert both lists to sets and print their contents\n",
    "  - Print the intersection of both sets\n",
    "  - Print the union of both sets\n",
    "  - Print the difference of both sets\n",
    "  - Print the symmetric difference of both sets\n",
    "  "
   ]
  },
  {
   "cell_type": "code",
   "execution_count": null,
   "metadata": {},
   "outputs": [],
   "source": []
  },
  {
   "cell_type": "markdown",
   "metadata": {},
   "source": [
    "#### Exercise 10\n",
    "Write a Python statement to sort the tuple x = (15,12,18,24,10,3,9)"
   ]
  },
  {
   "cell_type": "code",
   "execution_count": null,
   "metadata": {},
   "outputs": [],
   "source": []
  }
 ],
 "metadata": {
  "kernelspec": {
   "display_name": "Python 3",
   "language": "python",
   "name": "python3"
  },
  "language_info": {
   "codemirror_mode": {
    "name": "ipython",
    "version": 3
   },
   "file_extension": ".py",
   "mimetype": "text/x-python",
   "name": "python",
   "nbconvert_exporter": "python",
   "pygments_lexer": "ipython3",
   "version": "3.6.4"
  }
 },
 "nbformat": 4,
 "nbformat_minor": 2
}
