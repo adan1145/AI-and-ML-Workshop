{
 "cells": [
  {
   "cell_type": "markdown",
   "metadata": {},
   "source": [
    "#### Program 1\n",
    "Write a program that:\n",
    "* Takes a an arbitrarily long sequence of floating point numbers from the user separated by comma e.g. '12.3,45.23,11.98' as input from the user.\n",
    "* Checks if each number entered is indeed a number i.e. contains only numeric or decimal point characters.\n",
    "* Sums the numbers in the input string and prints their total"
   ]
  },
  {
   "attachments": {
    "image.png": {
     "image/png": "[encoded data removed]"
    }
   },
   "cell_type": "markdown",
   "metadata": {},
   "source": [
    "#### Program 2\n",
    "Write a program that:\n",
    "* Takes two vectors (lists of floating point numbers) and calculates the Cosine Similarity between them\n",
    "* The formula for Cosine similarity is as follows:\n",
    "   \n",
    "![image.png](attachment:image.png)\n",
    "\n",
    "Where\n",
    "  - X.Y is the dot product of two vectors given by multiplying each element of vector X by corresponding element of vector Y.\n",
    "  - ||X|| x ||Y|| is the simple multiplication of lengh of X with length of Y\n",
    "  where the length of a Vector is given by:\n",
    "  \n",
    "![](vector-length.png)\n",
    "  \n",
    "  - In other words, length of X is the square root of the sum of squares of each element of X.\n",
    "  - Hint: Use import math in your code and look for sqrt function Python's standard math library\n",
    "  \n",
    "\n",
    "\n"
   ]
  },
  {
   "cell_type": "markdown",
   "metadata": {},
   "source": [
    "#### Program 3\n",
    "Write a function called flip that:\n",
    "* Takes a number numflips as argument that specifies how many times to flip a coin\n",
    "* Simulates a coin flip by randomly picking between two choices i.e. Head and Tail numflip times (use a loop)\n",
    "* Returns the fraction of Heads to total numflips\n",
    "\n",
    "Write another function that simulates several trials of the above function as follows:\n",
    "* It takes two arguments:\n",
    "   - flipsPerTrial that specifies the argument of the first function above\n",
    "   - NumberOfTrials that specifies the total number of times the above function is to be called\n",
    "* It calls the first function NumberOfTrials times and calculates the mean of the fraction of heads returned by it and returns that mean.\n",
    "\n",
    "* So for example, if we call second function with 100 and 10, then it calls the firts one with argument 100, 10 times. Each time it would get the fraction of heads returned by the first one. \n",
    "* It would need to keep track of these return values in some sort of list and finally calculate the mean of the values in that list.\n",
    "* Keep calling the second function by increasing the NumberOfTrials from 10 to 100, 1000, 10000, 100000 and 1000000.\n",
    "* Do you see how the mean converges to 0.5?"
   ]
  },
  {
   "cell_type": "markdown",
   "metadata": {},
   "source": [
    "#### Program 4\n",
    "Create a program that implements a data cache. The skeleton code is given below:\n",
    "* The program shall use a Python dictionary as a cache which is a global variable accessible by all functions as global\n",
    "* do_work function given below is an example of performing some time consuming calculations. What we want to do is to cache the results of our calculations generated by do_work into a dictionary under some appropriate key\n",
    "* When the function is called next time, it should first look up in the cache by building the key from its arguments\n",
    "* If the data is found in the cache, it uses that data and returns with it\n",
    "* Otherwise it has to generate new data (consuming time in the process) and then cache the data against the key so that it is found in the cache next time the same key is given by the user\n",
    "* We also want to save the cache to disk in a pickle file and then load it back into memory before every new run of the program (say after a reboot of the system)\n",
    "* We want to initialize the cache's pickle file with an empty dictionary in the beginning when no cache exists\n",
    "\n",
    "***Note: don't forget to close the file you open for reading/writing***\n",
    "\n",
    "Your task is to complete the skeleton code given below. Complete the parts marked with TODO in cells below:\n"
   ]
  },
  {
   "cell_type": "code",
   "execution_count": null,
   "metadata": {},
   "outputs": [],
   "source": [
    "import pickle\n",
    "\n",
    "# TODO: Define an empty dictionary as a global variable. This will be overwritten by\n",
    "# the load_cache function below\n",
    "data_cache = {}\n",
    "\n",
    "def init_cache(cache_file):\n",
    "    # TODO: create an empty dictionary and store it in a pickle file \n",
    "    # whose name is given in thje argument\n",
    "        \n",
    "def load_cache(cache_file):\n",
    "    # TODO: read the current cache from the given pickle file in argument \n",
    "    #and assign it to data_cache\n",
    "    \n",
    "def get_from_cache(key):\n",
    "    #TODO: check if the data is in the data_cache against the given key\n",
    "    # and return the value stored. Otherise return None\n",
    "    return None\n",
    "        \n",
    "\n",
    "def save_cache(cache_file):\n",
    "    # TODO: Save the current data_cache to the given pickle file\n",
    "\n",
    "def show_cache():\n",
    "    #TODO: print the contents of the cache on the screen\n",
    "\n"
   ]
  },
  {
   "cell_type": "code",
   "execution_count": null,
   "metadata": {},
   "outputs": [],
   "source": [
    "#TODO: Write a decorator function that decorates the function it is passed\n",
    "# such that in its its wrapper function it calls Python's time.time() \n",
    "# to get the current time seconds before calling the actual passed function\n",
    "# and then again calls time.time() after the call to function and prints \n",
    "# the difference of both times. Then it finally returns the output of the \n",
    "# function as result\n",
    "\n",
    "def decorate(func):\n",
    "    #TODO: complete this function\n",
    "    return None # replace appropriately"
   ]
  },
  {
   "cell_type": "code",
   "execution_count": null,
   "metadata": {},
   "outputs": [],
   "source": [
    "import time\n",
    "@decorate\n",
    "def do_work(m, n, t):\n",
    "    #TODO: check if data exists in cache. Return the data immediately if it \n",
    "    # exists against the given key\n",
    "    #if data exists....\n",
    "    #else:\n",
    "    \n",
    "        # . . . do some time-consuming calculations . . .\n",
    "        results = []\n",
    "        for i in range(m,n,t):\n",
    "            results.append(i*i)\n",
    "        output = sum(results)\n",
    "        #TODO: generate a key from m,n,and t and put outpout against it \n",
    "        # in data_cache\n",
    "        \n",
    "        return results"
   ]
  },
  {
   "cell_type": "markdown",
   "metadata": {},
   "source": [
    "#### Testing"
   ]
  },
  {
   "cell_type": "code",
   "execution_count": null,
   "metadata": {},
   "outputs": [],
   "source": [
    "init_cache('work_cache_file.pkl')"
   ]
  },
  {
   "cell_type": "code",
   "execution_count": null,
   "metadata": {},
   "outputs": [],
   "source": [
    "load_cache('work_cache_file.pkl')"
   ]
  },
  {
   "cell_type": "code",
   "execution_count": null,
   "metadata": {},
   "outputs": [],
   "source": [
    "show_cache()"
   ]
  },
  {
   "cell_type": "code",
   "execution_count": null,
   "metadata": {},
   "outputs": [],
   "source": [
    "do_work(1,1000000,2)"
   ]
  },
  {
   "cell_type": "code",
   "execution_count": null,
   "metadata": {},
   "outputs": [],
   "source": [
    "show_cache()"
   ]
  },
  {
   "cell_type": "markdown",
   "metadata": {},
   "source": [
    "***Call do_work some number of times***"
   ]
  },
  {
   "cell_type": "code",
   "execution_count": null,
   "metadata": {},
   "outputs": [],
   "source": [
    "do_work(10,200000,1)"
   ]
  },
  {
   "cell_type": "code",
   "execution_count": null,
   "metadata": {},
   "outputs": [],
   "source": [
    "do_work(1,100000,1)"
   ]
  },
  {
   "cell_type": "code",
   "execution_count": null,
   "metadata": {},
   "outputs": [],
   "source": [
    "save('work_cache_file2.pkl')"
   ]
  },
  {
   "cell_type": "code",
   "execution_count": null,
   "metadata": {},
   "outputs": [],
   "source": [
    "load_cache('work_cache_file2.pkl')"
   ]
  },
  {
   "cell_type": "markdown",
   "metadata": {},
   "source": [
    "show_cache()"
   ]
  },
  {
   "cell_type": "markdown",
   "metadata": {},
   "source": [
    "### HackerRank Challenges\n",
    "* Create an Account on www.Hackerrank.com\n",
    "* Select Python Practice\n",
    "* Solve at least one of the following three challenges:\n",
    "  - https://www.hackerrank.com/challenges/piling-up/problem\n",
    "  - https://www.hackerrank.com/challenges/validating-credit-card-number/problem\n",
    "  - https://www.hackerrank.com/challenges/no-idea/problem\n",
    "\n",
    "Ideally you should solve all three but you need to solve one to get the Certificate.\n",
    "\n",
    "After you solve the above challenges:\n",
    " - Take a screen shot of the Success Message of the Hackerrank Web-Page stating that all your Test Cases have been passed and you have earned the required points.\n",
    " - Copy and paste your solution code to this Jupyter Notebook in three separate cells below this one. \n",
    " \n",
    " ***Note: Your solutions should be part of your submission when you submit this notebook***"
   ]
  },
  {
   "cell_type": "code",
   "execution_count": null,
   "metadata": {},
   "outputs": [],
   "source": []
  }
 ],
 "metadata": {
  "kernelspec": {
   "display_name": "Python 3",
   "language": "python",
   "name": "python3"
  },
  "language_info": {
   "codemirror_mode": {
    "name": "ipython",
    "version": 3
   },
   "file_extension": ".py",
   "mimetype": "text/x-python",
   "name": "python",
   "nbconvert_exporter": "python",
   "pygments_lexer": "ipython3",
   "version": "3.6.4"
  }
 },
 "nbformat": 4,
 "nbformat_minor": 2
}
