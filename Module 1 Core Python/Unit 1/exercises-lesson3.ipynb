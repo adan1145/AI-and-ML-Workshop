{
 "cells": [
  {
   "cell_type": "markdown",
   "metadata": {},
   "source": [
    "#### Exercise 1\n",
    "\n",
    "* Write Python code that asks the user for three names and three ages. Store the names and ages in a Dictionary. \n",
    "* After the names and ages are entered, ask the user for one of the names, and print the correct age"
   ]
  },
  {
   "cell_type": "code",
   "execution_count": null,
   "metadata": {},
   "outputs": [],
   "source": []
  },
  {
   "cell_type": "markdown",
   "metadata": {},
   "source": [
    "#### Exercise 2\n",
    "\n",
    "* Create a dictionary that maps Sizes to prices for shirts. Small = 600, Medium =700, Large = 800\n",
    "* Get user input for variable size (S, M, L). Convert user's entry to the dictionary key\n",
    "* Reply with each shirt size and price (Small = 600, Medium =700, Large = 800)\n",
    "* If the user input is other than S, M, L, give a message for not available"
   ]
  },
  {
   "cell_type": "code",
   "execution_count": null,
   "metadata": {},
   "outputs": [],
   "source": []
  },
  {
   "cell_type": "markdown",
   "metadata": {},
   "source": [
    "#### Exercise 3\n",
    "\n",
    "Review the following code, fix the errors and re-run "
   ]
  },
  {
   "cell_type": "code",
   "execution_count": null,
   "metadata": {},
   "outputs": [],
   "source": [
    "student_name = input(\"enter name: \").capitalize()\n",
    "if student_name.startswith(\"F\"):\n",
    "    print(student_name,\"Congratulations, names starting with 'F' get to go first today!\")\n",
    "elif student_name.startswith(\"H\")\n",
    "    print(student_name,\"Congratulations, names starting with 'H' get to go second today!\")\n",
    "else:\n",
    "    print(student_name, \"please wait for students with names staring with 'F' and 'H' to go first today.\")\n"
   ]
  },
  {
   "cell_type": "markdown",
   "metadata": {},
   "source": [
    "#### Exercise 4\n",
    "get input using the Prompt:\n",
    "* enter a word that starts with \"pre\":\n",
    "\n",
    "* Check if word starts with \"pre\"\n",
    "\n",
    "* Check if word isalpha\n",
    "\n",
    "* if checks pass print message explaining is a valid \"pre\" word\n",
    "\n",
    "* if any checks fail print message explaining not a \"pre\" word"
   ]
  },
  {
   "cell_type": "code",
   "execution_count": null,
   "metadata": {},
   "outputs": [],
   "source": []
  },
  {
   "cell_type": "markdown",
   "metadata": {},
   "source": [
    "#### Exercise 5\n",
    "* Given x = [1, 3, 5, 0, -1,3, -2]\n",
    "  - Write code to remove all negative numbers from this list"
   ]
  },
  {
   "cell_type": "code",
   "execution_count": null,
   "metadata": {},
   "outputs": [],
   "source": []
  },
  {
   "cell_type": "markdown",
   "metadata": {},
   "source": [
    "#### Exercise 6\n",
    "Write a program which accepts a sequence of comma-separated numbers from console and generate a list and a tuple which contains every number.\n",
    "Suppose the following input is supplied to the program:\n",
    "34,67,55,33,12,98\n",
    "Then, the output should be:\n",
    "\n",
    "['34', '67', '55', '33', '12', '98']\n",
    "\n",
    "('34', '67', '55', '33', '12', '98')"
   ]
  },
  {
   "cell_type": "code",
   "execution_count": null,
   "metadata": {},
   "outputs": [],
   "source": []
  },
  {
   "cell_type": "markdown",
   "metadata": {},
   "source": [
    "#### Exercise 7\n",
    "* Given the list:\n",
    " - cities = [\"New York\", \"Shanghai\", \"Munich\", \"Tokyo\", \"Dubai\", \"Mexico City\", \"São Paulo\", \"Karachi\"]\n",
    " \n",
    " * Count the total sum of the number of occurences of letter 'a' in all cities"
   ]
  },
  {
   "cell_type": "markdown",
   "metadata": {},
   "source": [
    "#### Exercise 8\n",
    "* Given a list y = [[1, -1,0], [2, 5, -9],[-2,-3,0]]\n",
    "  - How would you find the count of the total number of negatives in the list"
   ]
  },
  {
   "cell_type": "code",
   "execution_count": null,
   "metadata": {},
   "outputs": [],
   "source": []
  },
  {
   "cell_type": "markdown",
   "metadata": {},
   "source": [
    "#### Exercise 9\n",
    "* Given the string of words:\n",
    "  - words = 'Python is easy to learn. It is a popular lanuage for Data Science. Python is an interpreted language.'\n",
    "\n",
    "* Write code to store the count of each word of the given string in a dictionary and then print the counts as a list of tuples\n",
    "* Improve your code so that you don't have to check for the presence of a word in the dictionary before updating the count\n",
    "\n"
   ]
  },
  {
   "cell_type": "code",
   "execution_count": null,
   "metadata": {},
   "outputs": [],
   "source": []
  },
  {
   "cell_type": "markdown",
   "metadata": {},
   "source": [
    "#### Exercise 10\n",
    "* Program: Get a name forever ...or until done\n",
    "* Create variable, name, and assign it an empty string (\"\")\n",
    "* Use while True:\n",
    "* Ask for user input for name\n",
    "* Keep asking until the user keeps giving a non-alphabetical name (Hint: isalpha() string function)\n",
    "* Break loop and print a greeting using name"
   ]
  },
  {
   "cell_type": "code",
   "execution_count": null,
   "metadata": {},
   "outputs": [],
   "source": []
  },
  {
   "cell_type": "markdown",
   "metadata": {},
   "source": [
    "#### Exercise 11\n",
    "* Use while to get the user input, animal_name, of 4 animals\n",
    "* Use a counter, num_animals, in the while loop condition\n",
    "* Append the names to a string variable, all_animals\n",
    "* User can exit early by typing \"exit\" (check if animal_name is \"exit\" and break)\n",
    "* When the loop finishes, print the names of all_animals\n",
    "* Print \"no animals\" if animal_name is empty after exiting the loop\n",
    "\n",
    "* Tip: Think about Sequence and variables that need to be initialized before the while loop"
   ]
  },
  {
   "cell_type": "code",
   "execution_count": null,
   "metadata": {},
   "outputs": [],
   "source": []
  },
  {
   "cell_type": "markdown",
   "metadata": {},
   "source": [
    "#### Exercise 12\n",
    "* Create variables:\n",
    "  - int_num and get user input string of only digits\n",
    "  - long_num and initialize it as an empty string\n",
    "* Create a while loop that runs as long as the input is all digits\n",
    "* Inside the while loop\n",
    "  - add int_num to the end of long_num\n",
    "  - get user input for int_num again (inside while loop this time)\n",
    "* After the loop exits print the value of long_num"
   ]
  },
  {
   "cell_type": "code",
   "execution_count": null,
   "metadata": {},
   "outputs": [],
   "source": []
  },
  {
   "cell_type": "markdown",
   "metadata": {},
   "source": [
    "#### Exercise 13\n",
    "* Fix the error in the following code. \n",
    "* The loop should run five times.\n",
    "* Currently it never runs."
   ]
  },
  {
   "cell_type": "code",
   "execution_count": null,
   "metadata": {},
   "outputs": [],
   "source": [
    "count = 0\n",
    "while count > 6:\n",
    "    print(count, \"x\", count, \"=\", count*count)\n",
    "    count +=1"
   ]
  }
 ],
 "metadata": {
  "kernelspec": {
   "display_name": "Python 3",
   "language": "python",
   "name": "python3"
  },
  "language_info": {
   "codemirror_mode": {
    "name": "ipython",
    "version": 3
   },
   "file_extension": ".py",
   "mimetype": "text/x-python",
   "name": "python",
   "nbconvert_exporter": "python",
   "pygments_lexer": "ipython3",
   "version": "3.6.4"
  }
 },
 "nbformat": 4,
 "nbformat_minor": 2
}
