{
 "cells": [
  {
   "cell_type": "markdown",
   "metadata": {},
   "source": [
    "#### Exercise 1\n",
    "Convert the following Python code based on explicit list creation to use List Comprehension"
   ]
  },
  {
   "cell_type": "code",
   "execution_count": 1,
   "metadata": {},
   "outputs": [
    {
     "name": "stdout",
     "output_type": "stream",
     "text": [
      "[0, 4, 16, 36, 64]\n",
      "[0, 4, 16, 36, 64]\n"
     ]
    }
   ],
   "source": [
    "numbers = range(10)\n",
    "new_list = []\n",
    "for n in numbers:\n",
    "    if n%2==0:\n",
    "        new_list.append(n**2)\n",
    "\n",
    "print(new_list)\n",
    "\n",
    "nl = [n**2 for n in range(10) if n%2==0]\n",
    "print(nl)"
   ]
  },
  {
   "cell_type": "markdown",
   "metadata": {},
   "source": [
    "#### Exercise 2\n",
    "Given the list:\n",
    "\n",
    "list_of_strings = [\"Hello\", \"World\", \"In\", \"Python\"]\n",
    "\n",
    "Write Python code that uses a list comprehension to convert all the list elements to lowercase"
   ]
  },
  {
   "cell_type": "code",
   "execution_count": 2,
   "metadata": {},
   "outputs": [
    {
     "name": "stdout",
     "output_type": "stream",
     "text": [
      "['hello', 'world', 'in', 'python']\n"
     ]
    }
   ],
   "source": [
    "list_of_strings = [\"Hello\",\"World\",\"In\",\"Python\"]\n",
    "ls = [word.lower() for word in list_of_strings]\n",
    "print(ls)"
   ]
  },
  {
   "cell_type": "markdown",
   "metadata": {},
   "source": [
    "#### Exercise 3\n",
    "Convert the following Python code based on explicit list creation to use List Comprehension"
   ]
  },
  {
   "cell_type": "code",
   "execution_count": 5,
   "metadata": {},
   "outputs": [
    {
     "name": "stdout",
     "output_type": "stream",
     "text": [
      "[2, 3, 4]\n",
      "[2, 3, 4]\n"
     ]
    }
   ],
   "source": [
    "list_a = [1, 2, 3, 4]\n",
    "list_b = [2, 3, 4, 5]\n",
    "\n",
    "common_num = []\n",
    "\n",
    "for a in list_a:\n",
    "    for b in list_b:\n",
    "        if a == b:\n",
    "            common_num.append(a)\n",
    "\n",
    "print(common_num)  # Output [2, 3, 4]\n",
    "c_n = [a for a in list_a for b in list_b if a == b]\n",
    "print(c_n)"
   ]
  },
  {
   "cell_type": "markdown",
   "metadata": {},
   "source": [
    "#### Exercise 4\n",
    "* Create a new dictionary using dictionary comprehension where the key is an odd number in a range of 0 to 10 and it's value is the square of the number"
   ]
  },
  {
   "cell_type": "code",
   "execution_count": 13,
   "metadata": {},
   "outputs": [
    {
     "name": "stdout",
     "output_type": "stream",
     "text": [
      "{1: 1, 3: 9, 5: 25, 7: 49, 9: 81}\n"
     ]
    }
   ],
   "source": [
    "d = {k:k**2 for k in range(10) if k%2!=0}\n",
    "print(d)"
   ]
  },
  {
   "cell_type": "markdown",
   "metadata": {},
   "source": [
    "#### Exercise 5\n",
    " * For the list given below, use dictionary comprehension to create a dictionary with the list elements as the keys and the length of each string as the values.\n",
    "\n",
    "fruits = ['apple', 'mango', 'banana','cherry']"
   ]
  },
  {
   "cell_type": "code",
   "execution_count": 15,
   "metadata": {},
   "outputs": [
    {
     "name": "stdout",
     "output_type": "stream",
     "text": [
      "{'apple': 5, 'mango': 5, 'banana': 6, 'cherry': 6}\n"
     ]
    }
   ],
   "source": [
    "fruits = ['apple', 'mango', 'banana','cherry']\n",
    "f = {fruit:len(fruit) for fruit in fruits}\n",
    "print(f)"
   ]
  },
  {
   "cell_type": "markdown",
   "metadata": {},
   "source": [
    "#### Exercise 6\n",
    "* Define function make_doctor()  that takes a parameter name and adds the Doctor title to the passed argument\n",
    "* Get user input for variable full_name\n",
    "* Call the function using full_name as argument\n",
    "* print the return value"
   ]
  },
  {
   "cell_type": "code",
   "execution_count": 23,
   "metadata": {},
   "outputs": [
    {
     "name": "stdout",
     "output_type": "stream",
     "text": [
      "Enter doctor full name: adan abid\n",
      "Dr. Adan Abid\n"
     ]
    }
   ],
   "source": [
    "def make_doctor(name):\n",
    "     return ('Dr. '+ name)\n",
    "\n",
    "full_name = input(\"Enter doctor full name: \").title()\n",
    "print(make_doctor(full_name))\n"
   ]
  },
  {
   "cell_type": "markdown",
   "metadata": {},
   "source": [
    "#### Exercise 7\n",
    "* Start with the example function make_schedule in the tutorial\n",
    "* Add a parameter period_3\n",
    "* update function code to add period_3 to the schedule\n",
    "* Call student_schedule() with an additional argument such as 'science' \n",
    "* print the schedule\n",
    "* Create and print a schedule of 6 periods using the function"
   ]
  },
  {
   "cell_type": "code",
   "execution_count": 34,
   "metadata": {},
   "outputs": [
    {
     "name": "stdout",
     "output_type": "stream",
     "text": [
      "SCHEDULE: [1st] Mathematics, [2nd] History, [3rd] Science\n",
      "SCHEDULE: [1st] Mathematics, [2nd] History, [3rd] Science, [4th] Calculus, [5th] Programming, [6th] Dld\n"
     ]
    }
   ],
   "source": [
    "def make_schedule(period1, period2, period_3):\n",
    "    \n",
    "    schedule = (\"[1st] \" + period1.title() + \", [2nd] \" + period2.title()+ \", [3rd] \" + period_3.title())\n",
    "    return schedule\n",
    "\n",
    "student_schedule = make_schedule(\"mathematics\", \"history\",\"science\")\n",
    "\n",
    "print(\"SCHEDULE:\", student_schedule)\n",
    "\n",
    "def make_schedule6(period1, period2, period_3,period_4,period_5,period_6):\n",
    "    \n",
    "    schedule = (\"[1st] \" + period1.title() + \", [2nd] \" + period2.title()+ \", [3rd] \" + period_3.title() + \n",
    "                \", [4th] \" + period_4.title()+ \", [5th] \" + period_5.title()+ \", [6th] \" + period_6.title())\n",
    "    return schedule\n",
    "\n",
    "student_schedule = make_schedule6(\"mathematics\", \"history\",\"science\",\"calculus\", \"programming\",\"dld\")\n",
    "\n",
    "print(\"SCHEDULE:\", student_schedule)"
   ]
  },
  {
   "cell_type": "markdown",
   "metadata": {},
   "source": [
    "#### Exercise 8\n",
    "* Define a function that takes an integer as an argument. \n",
    "* Checks that it is positive. Returns an error if it is -ve\n",
    "* Calculates the factorial of the integer and returns the result"
   ]
  },
  {
   "cell_type": "code",
   "execution_count": 52,
   "metadata": {},
   "outputs": [
    {
     "name": "stdout",
     "output_type": "stream",
     "text": [
      "Error\n"
     ]
    }
   ],
   "source": [
    "def func(a):\n",
    "    if a < 0:\n",
    "         return \"Error\"\n",
    "    elif a>0:\n",
    "        return a*func(a-1)\n",
    "    else:\n",
    "        return 1\n",
    "print(func(-3))"
   ]
  },
  {
   "cell_type": "markdown",
   "metadata": {},
   "source": [
    "#### Exercise 9\n",
    "Modify the following program such that the dictionary keys ['a', 'b'] are printed out instead of ['dd']"
   ]
  },
  {
   "cell_type": "code",
   "execution_count": 104,
   "metadata": {},
   "outputs": [
    {
     "name": "stdout",
     "output_type": "stream",
     "text": [
      "dict_keys(['a', 'b'])\n"
     ]
    }
   ],
   "source": [
    "def example_func(x, y, **other): # variable keyword arguments\n",
    "    d = other['dd']\n",
    "    d= d['dd']\n",
    "    print(d.keys())\n",
    "    \n",
    "def foo(a,b,**other):\n",
    "    example_func(2, y=\"1\",dd=other)\n",
    "\n",
    "d = {'a':1,'b':2}\n",
    "foo(1,2,dd=d)\n"
   ]
  },
  {
   "cell_type": "markdown",
   "metadata": {},
   "source": [
    "#### Exercise 10\n",
    "* Write a Lambda function that takes a character and returns True if the character is a vowel, False otherwise\n",
    "* Create a function count_vowels that takes a string s and an argument called action\n",
    "* The function should split the string s on whitespace and then using map, action and list splitting as building blocks, the function should return the number of vowels in the string s\n",
    "* Call count_vowels on a test string containing multiple words   "
   ]
  },
  {
   "cell_type": "code",
   "execution_count": 166,
   "metadata": {},
   "outputs": [
    {
     "name": "stdout",
     "output_type": "stream",
     "text": [
      "4\n"
     ]
    }
   ],
   "source": [
    "fun = lambda a: (a in \"aeiou\")\n",
    "\n",
    "s = 'this is a test' # test the code with different such strings\n",
    "def count_vowels(s,action):\n",
    "    s = s.lower().split(' ')    # split the string s after converting it to lower case\n",
    "    c=0\n",
    "    for word in s:\n",
    "        for tf in list(map(action,word)):\n",
    "            if tf==True:\n",
    "            # using map and action, return the count of vowels in s\n",
    "                c+=1\n",
    "    return c\n",
    "           \n",
    "           \n",
    "print(count_vowels(s,fun))"
   ]
  },
  {
   "cell_type": "markdown",
   "metadata": {},
   "source": [
    "#### Exercise 11\n",
    "* Write a decorator function that wraps the given function such that the two arguments a and b passed to the given function are checked such that both are numbers between -100 and 100 and b is not zero (to avoid divide by zero).\n",
    "* If any of the above check fails, the given function should not be called and an error should be printed instead and None is returned.\n",
    "* If the arguments pass these sanity checks, then the wrapper function should pass them to the given function which simply returns the result of division of a by b.\n",
    "* Use Python's decorator syntax in this code\n"
   ]
  },
  {
   "cell_type": "code",
   "execution_count": 1,
   "metadata": {},
   "outputs": [
    {
     "name": "stdout",
     "output_type": "stream",
     "text": [
      "in decorate function, decorating abyb\n",
      "Executing abyb\n",
      "Error: Either b=0 or a,b not between -100 and 100\n"
     ]
    }
   ],
   "source": [
    "def decorateabyb(func):\n",
    "    print(\"in decorate function, decorating\", func.__name__)\n",
    "    def wrapper_func(a,b):\n",
    "        print(\"Executing\", func.__name__)\n",
    "        if(-100<=a<=100 and -100<=b<=100 and b!=0 ):\n",
    "            return func(a,b)\n",
    "        else:\n",
    "            print(\"Error: Either b=0 or a,b not between -100 and 100\")\n",
    "            return None\n",
    "    return wrapper_func\n",
    "\n",
    "@decorateabyb\n",
    "def abyb(a,b):\n",
    "    return a/b\n",
    "\n",
    "abyb(101,2)"
   ]
  }
 ],
 "metadata": {
  "kernelspec": {
   "display_name": "Python 3",
   "language": "python",
   "name": "python3"
  },
  "language_info": {
   "codemirror_mode": {
    "name": "ipython",
    "version": 3
   },
   "file_extension": ".py",
   "mimetype": "text/x-python",
   "name": "python",
   "nbconvert_exporter": "python",
   "pygments_lexer": "ipython3",
   "version": "3.7.1"
  }
 },
 "nbformat": 4,
 "nbformat_minor": 2
}
