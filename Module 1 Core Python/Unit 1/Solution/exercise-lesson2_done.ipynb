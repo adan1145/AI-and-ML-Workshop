{
 "cells": [
  {
   "cell_type": "markdown",
   "metadata": {},
   "source": [
    "#### Exercise 1\n",
    "\n",
    " * Use isalpha() on the string: \"Are spaces and punctuation Alphabetical?\"\n",
    " * initailize variable alpha_test with input(). Then use isalpha() on string variable alpha_test"
   ]
  },
  {
   "cell_type": "code",
   "execution_count": 3,
   "metadata": {},
   "outputs": [
    {
     "name": "stdout",
     "output_type": "stream",
     "text": [
      "False\n",
      "Input a string MynameisAdan\n"
     ]
    },
    {
     "data": {
      "text/plain": [
       "True"
      ]
     },
     "execution_count": 3,
     "metadata": {},
     "output_type": "execute_result"
    }
   ],
   "source": [
    "print(\"Are spaces and punctuation Alphabetical\".isalpha())\n",
    "alpha_test = input(\"Input a string \")\n",
    "alpha_test.isalpha()"
   ]
  },
  {
   "cell_type": "markdown",
   "metadata": {},
   "source": [
    "#### Exercise 2\n",
    "* Get input for a variable, fav_food, that describes a favorite food\n",
    "* Display fav_food as ALL CAPS, used in a sentence\n",
    "* Display fav_food as all lower case, used in a sentence\n",
    "* Display fav_food with swapped case, used in a sentence\n",
    "* Display fav_food with capitalization, used in a sentence"
   ]
  },
  {
   "cell_type": "code",
   "execution_count": 4,
   "metadata": {},
   "outputs": [
    {
     "name": "stdout",
     "output_type": "stream",
     "text": [
      "Input your favoutite food: JAmun\n",
      "My favourite food is:  JAMUN\n",
      "My favourite food is:  jamun\n",
      "My favourite food is:  jaMUN\n",
      "My favourite food is:  Jamun\n"
     ]
    }
   ],
   "source": [
    "fav_food = input('Input your favoutite food: ')\n",
    "print('My favourite food is: ',fav_food.upper())\n",
    "print('My favourite food is: ',fav_food.lower())\n",
    "print('My favourite food is: ',fav_food.swapcase())\n",
    "print('My favourite food is: ',fav_food.capitalize())"
   ]
  },
  {
   "cell_type": "markdown",
   "metadata": {},
   "source": [
    "#### Exercise 3\n",
    "* Given that menu = \"salad, pasta, sandwich, pizza, drinks, dessert\"\n",
    "* Create a program where a user can check via input() if an item is on the menu\n",
    "* store the user response in a variable menu_ask\n",
    "* The program should be able to ignore case mismatch so that \"hello\" is found in \"Hello World!\"\n",
    "* Print the current menu\n",
    "* Get user input for add_item variable\n",
    "* Add the new item to menu using string addition\n",
    "* Print the new updated menu\n",
    "* Again perform a check if an item is on the menu, check for previous items and the item you added"
   ]
  },
  {
   "cell_type": "code",
   "execution_count": 2,
   "metadata": {},
   "outputs": [
    {
     "name": "stdout",
     "output_type": "stream",
     "text": [
      "Enter an item on the menu to check: Jamun\n",
      "False \n",
      " salad, pasta, sandwich, pizza, drinks, dessert\n",
      "Add item in the menu: JAMUN\n",
      "salad, pasta, sandwich, pizza, drinks, dessert, jamun\n",
      "Enter an item on the menu to check: JAMUN\n",
      "True \n",
      " salad, pasta, sandwich, pizza, drinks, dessert, jamun\n"
     ]
    }
   ],
   "source": [
    "menu = \"salad, pasta, sandwich, pizza, drinks, dessert\"\n",
    "menu_ask = input('Enter an item on the menu to check: ')\n",
    "print(menu_ask.lower() in menu,'\\n',menu)\n",
    "add_item = input(\"Add item in the menu: \")\n",
    "m = menu +', '+ add_item.lower()\n",
    "print(m)\n",
    "menu_asks = input('Enter an item on the menu to check: ')\n",
    "print(menu_asks.lower() in m,'\\n',m)\n"
   ]
  },
  {
   "cell_type": "markdown",
   "metadata": {},
   "source": [
    "#### Exercise 4"
   ]
  },
  {
   "cell_type": "code",
   "execution_count": 14,
   "metadata": {},
   "outputs": [
    {
     "name": "stdout",
     "output_type": "stream",
     "text": [
      "Red in paint colors =  True\n",
      "thon\n",
      "Data Science\n",
      "Lann\n",
      "True\n"
     ]
    }
   ],
   "source": [
    "### Fix the errors \n",
    "paint_colors = \"red, blue, green, black, orange, pink\"\n",
    "print('Red in paint colors = ','red' in paint_colors)\n",
    "\n",
    "\n",
    "x = 'Learning Data Science with Python'\n",
    "print(x[-4:])\n",
    "i=x.find(\"Data Science\")\n",
    "print(x[i:i+12])\n",
    "print(x[0:7:2])\n",
    "print('a' in x[0:8])"
   ]
  },
  {
   "cell_type": "markdown",
   "metadata": {},
   "source": [
    "#### Exercise 5\n",
    "Given the string \n",
    "x = 'Learning Data Science with Python'\n",
    "\n",
    "Write Python statements to:\n",
    "* Get a substring containing 'thon'\n",
    "* Get a substring containing 'Data Science'\n",
    "* Get a substring containing 'Lann'\n",
    "* Return a Boolean True of False whether the first word of the string contains the letter 'a' "
   ]
  },
  {
   "cell_type": "markdown",
   "metadata": {},
   "source": [
    "#### Exercise 6\n",
    "* Create a Python list containing five integers\n",
    "* Write Python statements to extract:\n",
    "  - last element of list\n",
    "  - element at index 2\n",
    "  - elements from index 2 to 4 (4 included)\n",
    "  - elements from index 1 to 4 (4 excluded)\n",
    "  - last two elements\n"
   ]
  },
  {
   "cell_type": "code",
   "execution_count": 15,
   "metadata": {},
   "outputs": [
    {
     "name": "stdout",
     "output_type": "stream",
     "text": [
      "4\n",
      "2\n",
      "[2, 3, 4]\n",
      "[1, 2, 3]\n",
      "[3, 4]\n"
     ]
    }
   ],
   "source": [
    "l = [0,1,2,3,4]\n",
    "print(l[-1])\n",
    "print(l[2])\n",
    "print(l[2:])\n",
    "print(l[1:4])\n",
    "print(l[-2:])"
   ]
  },
  {
   "cell_type": "markdown",
   "metadata": {},
   "source": [
    "#### Exercise 7\n",
    "* Create two lists, one of 5 elements and second of 3 elements. Lists can be of any data types of your choice\n",
    "* Write Python statements to:\n",
    "  - Add list2 as a nested list at the end of list1\n",
    "  - Add list2 as a flattened list (individual elements of list2) to the end of list1\n",
    "  - Add list2 as a nested list at index 0 of list1 with existing element pushed to the next index\n",
    "  - Add list2 as a nested list at index 0 of list1 replacing the existing element\n",
    "  - Concatenate the two lists together and then replicate their contents three times\n",
    "  - Sort the list elements\n",
    "  - delete element at index 3\n",
    "  - delete any one of the elements of list1 with its value (you can choose any element to remove)\n",
    "  - print the elements of list1 sorted in descending order\n",
    "  - Create another list sorted in ascending order from list1 without changing list1\n"
   ]
  },
  {
   "cell_type": "code",
   "execution_count": 39,
   "metadata": {},
   "outputs": [
    {
     "name": "stdout",
     "output_type": "stream",
     "text": [
      "[0, 0, 0, 1, 1, 1, 2, 2, 2, 3, 3, 3, 4, 4, 4, 5, 5, 5, 6, 6, 6, 7, 7, 7]\n",
      "[3, 2, 1, 0] [5, 6, 7] [0, 0, 0, 1, 1, 2, 2, 2, 3, 3, 3, 4, 4, 4, 5, 5, 5, 6, 6, 6, 7, 7, 7] [0, 1, 2, 3]\n"
     ]
    }
   ],
   "source": [
    "l1 = [0,1,2,3,4]\n",
    "l2=[5,6,7]\n",
    "l1.append(l2)\n",
    "l1.extend(l2)\n",
    "l1.remove(0)\n",
    "l1.insert(0,l2)\n",
    "l1 = [0,1,2,3,4]\n",
    "l2=[5,6,7]\n",
    "l3=sorted((l1+l2)*3)\n",
    "print(l3)\n",
    "del l3[3]\n",
    "l1.remove(4)\n",
    "l1.sort(reverse=True)\n",
    "l4=sorted(l1)\n",
    "print(l1,l2,l3,l4)"
   ]
  },
  {
   "cell_type": "markdown",
   "metadata": {},
   "source": [
    "#### Exercise 8\n",
    "* Given the list x = [20, [21, 33, [10, ['Hello'], 12]]]\n",
    "  - Write a Python statement to print the word 'Hello' from this list as a single word and not a list"
   ]
  },
  {
   "cell_type": "code",
   "execution_count": 48,
   "metadata": {},
   "outputs": [
    {
     "name": "stdout",
     "output_type": "stream",
     "text": [
      "Hello\n"
     ]
    }
   ],
   "source": [
    "x = [20, [21, 33, [10, ['Hello'], 12]]]\n",
    "print(x[1][2][1][0])"
   ]
  },
  {
   "cell_type": "markdown",
   "metadata": {},
   "source": [
    "#### Exercise 9\n",
    "\n",
    "* Create two lists of 10 words each with one or more words repeating in each one\n",
    "* Write Python statements to:\n",
    "  - Count the occurences of any word of your choice in list1\n",
    "  - Convert both lists to sets and print their contents\n",
    "  - Print the intersection of both sets\n",
    "  - Print the union of both sets\n",
    "  - Print the difference of both sets\n",
    "  - Print the symmetric difference of both sets\n",
    "  "
   ]
  },
  {
   "cell_type": "code",
   "execution_count": 53,
   "metadata": {},
   "outputs": [
    {
     "name": "stdout",
     "output_type": "stream",
     "text": [
      "2\n",
      "{'Senor'}\n",
      "{'Carro', 'Senora', 'Azul', 'Sal', 'Manzana', 'Abriho,Azul', 'Hombre', 'Abriho', 'Chaqueta', 'Camisa', 'Verde', 'Banana', 'Senor', 'Azucar', 'Sombrero', 'Roho'}\n",
      "{'Sombrero', 'Manzana', 'Camisa', 'Chaqueta', 'Banana', 'Verde', 'Roho'}\n",
      "{'Carro', 'Senora', 'Azul', 'Sombrero', 'Sal', 'Roho', 'Manzana', 'Abriho,Azul', 'Hombre', 'Abriho', 'Chaqueta', 'Camisa', 'Banana', 'Verde', 'Azucar'}\n"
     ]
    }
   ],
   "source": [
    "l1=['Manzana','Banana','Sombrero','Chaqueta','Camisa','Senor','Roho','Verde','Manzana','Camisa']\n",
    "l2=['Hombre','Senora','Senor','Abriho,''Azul','Carro','Abriho','Azul','Azucar','Sal']\n",
    "print(l1.count('Manzana'))\n",
    "l1=set(l1)\n",
    "l2=set(l2)\n",
    "print(l1&l2)\n",
    "print(l1|l2)\n",
    "print(l1-l2)\n",
    "print(l1^l2)"
   ]
  },
  {
   "cell_type": "markdown",
   "metadata": {},
   "source": [
    "#### Exercise 10\n",
    "Write a Python statement to sort the tuple x = (15,12,18,24,10,3,9)"
   ]
  },
  {
   "cell_type": "code",
   "execution_count": 50,
   "metadata": {},
   "outputs": [
    {
     "data": {
      "text/plain": [
       "[3, 9, 10, 12, 15, 18, 24]"
      ]
     },
     "execution_count": 50,
     "metadata": {},
     "output_type": "execute_result"
    }
   ],
   "source": [
    "x = (15,12,18,24,10,3,9)\n",
    "sorted(x)"
   ]
  }
 ],
 "metadata": {
  "kernelspec": {
   "display_name": "Python 3",
   "language": "python",
   "name": "python3"
  },
  "language_info": {
   "codemirror_mode": {
    "name": "ipython",
    "version": 3
   },
   "file_extension": ".py",
   "mimetype": "text/x-python",
   "name": "python",
   "nbconvert_exporter": "python",
   "pygments_lexer": "ipython3",
   "version": "3.7.1"
  }
 },
 "nbformat": 4,
 "nbformat_minor": 2
}
