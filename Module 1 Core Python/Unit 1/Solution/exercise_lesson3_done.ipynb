{
 "cells": [
  {
   "cell_type": "markdown",
   "metadata": {},
   "source": [
    "#### Exercise 1\n",
    "\n",
    "* Write Python code that asks the user for three names and three ages. Store the names and ages in a Dictionary. \n",
    "* After the names and ages are entered, ask the user for one of the names, and print the correct age"
   ]
  },
  {
   "cell_type": "code",
   "execution_count": null,
   "metadata": {},
   "outputs": [
    {
     "name": "stdout",
     "output_type": "stream",
     "text": [
      "Enter name: ass2\n",
      "Enter name: ada\n",
      "Enter age: 25f\n",
      "Enter age: 25\n"
     ]
    }
   ],
   "source": [
    "d={}\n",
    "for i in range(0,3):\n",
    "    name = input(\"Enter name: \").lower()\n",
    "    while name.isalpha()==False:\n",
    "            name = input(\"Enter name: \").lower()\n",
    "    age = input(\"Enter age: \")\n",
    "    while age.isdigit()==False:\n",
    "           age = input(\"Enter age: \")\n",
    "    d[name]=age\n",
    "\n",
    "name = input(\"Enter a name: \").lower()\n",
    "print(name.capitalize(), \"age is \",d[name])"
   ]
  },
  {
   "cell_type": "markdown",
   "metadata": {},
   "source": [
    "#### Exercise 2\n",
    "\n",
    "* Create a dictionary that maps Sizes to prices for shirts. Small = 600, Medium =700, Large = 800\n",
    "* Get user input for variable size (S, M, L). Convert user's entry to the dictionary key\n",
    "* Reply with each shirt size and price (Small = 600, Medium =700, Large = 800)\n",
    "* If the user input is other than S, M, L, give a message for not available"
   ]
  },
  {
   "cell_type": "code",
   "execution_count": 19,
   "metadata": {},
   "outputs": [
    {
     "name": "stdout",
     "output_type": "stream",
     "text": [
      "Enter Size(S,M,L): A\n",
      "The price of Size A is Not Available\n"
     ]
    }
   ],
   "source": [
    "d={'Small':600,'Medium':700,'Large':800}\n",
    "S=input('Enter Size(S,M,L): ')\n",
    "l=list(d.keys())\n",
    "if S=='S':\n",
    "    S=l[0]\n",
    "elif S=='M':\n",
    "    S=l[1]\n",
    "elif S=='L':\n",
    "    S=l[2]\n",
    "print('The price of Size {} is {}'.format(S,d.get(S,'Not Available')))"
   ]
  },
  {
   "cell_type": "markdown",
   "metadata": {},
   "source": [
    "#### Exercise 3\n",
    "\n",
    "Review the following code, fix the errors and re-run "
   ]
  },
  {
   "cell_type": "code",
   "execution_count": 16,
   "metadata": {},
   "outputs": [
    {
     "name": "stdout",
     "output_type": "stream",
     "text": [
      "enter name: hhh\n",
      "Hhh Congratulations, names starting with 'H' get to go second today!\n"
     ]
    }
   ],
   "source": [
    "student_name = input(\"enter name: \").capitalize()\n",
    "if student_name.startswith(\"F\"):\n",
    "    print(student_name,\"Congratulations, names starting with 'F' get to go first today!\")\n",
    "elif student_name.startswith(\"H\"):\n",
    "    print(student_name,\"Congratulations, names starting with 'H' get to go second today!\")\n",
    "else:\n",
    "    print(student_name, \"please wait for students with names staring with 'F' and 'H' to go first today.\")\n"
   ]
  },
  {
   "cell_type": "markdown",
   "metadata": {},
   "source": [
    "#### Exercise 4\n",
    "get input using the Prompt:\n",
    "* enter a word that starts with \"pre\":\n",
    "\n",
    "* Check if word starts with \"pre\"\n",
    "\n",
    "* Check if word isalpha\n",
    "\n",
    "* if checks pass print message explaining is a valid \"pre\" word\n",
    "\n",
    "* if any checks fail print message explaining not a \"pre\" word"
   ]
  },
  {
   "cell_type": "code",
   "execution_count": 3,
   "metadata": {},
   "outputs": [
    {
     "name": "stdout",
     "output_type": "stream",
     "text": [
      "Enter a word that starts with 'pre': Presupposed1\n",
      "Presupposed1 is not a valid \"pre\" word.\n"
     ]
    }
   ],
   "source": [
    "word = input(\"Enter a word that starts with 'pre': \").lower()\n",
    "if word.startswith('pre') and word.isalpha():\n",
    "    print(word.capitalize(),\"is a valid 'pre' word.\")\n",
    "else:\n",
    "    print(word.capitalize(),'is not a valid \"pre\" word.')\n",
    "    "
   ]
  },
  {
   "cell_type": "markdown",
   "metadata": {},
   "source": [
    "#### Exercise 5\n",
    "* Given x = [1, 3, 5, 0, -1,3, -2]\n",
    "  - Write code to remove all negative numbers from this list"
   ]
  },
  {
   "cell_type": "code",
   "execution_count": 6,
   "metadata": {},
   "outputs": [
    {
     "name": "stdout",
     "output_type": "stream",
     "text": [
      "[1, 3, 5, 0, 3]\n"
     ]
    }
   ],
   "source": [
    "x= [1, 3, 5, 0, -1,3, -2]\n",
    "for i in x:\n",
    "    if i<0:\n",
    "        x.remove(i)\n",
    "print(x)"
   ]
  },
  {
   "cell_type": "markdown",
   "metadata": {},
   "source": [
    "#### Exercise 6\n",
    "Write a program which accepts a sequence of comma-separated numbers from console and generate a list and a tuple which contains every number.\n",
    "Suppose the following input is supplied to the program:\n",
    "34,67,55,33,12,98\n",
    "Then, the output should be:\n",
    "\n",
    "['34', '67', '55', '33', '12', '98']\n",
    "\n",
    "('34', '67', '55', '33', '12', '98')"
   ]
  },
  {
   "cell_type": "code",
   "execution_count": 74,
   "metadata": {},
   "outputs": [
    {
     "name": "stdout",
     "output_type": "stream",
     "text": [
      "Enter a sequence of comma-separated numbers: 34,67,55\n",
      "['34', '67', '55']\n",
      "('34', '67', '55')\n"
     ]
    }
   ],
   "source": [
    "a = input('Enter a sequence of comma-separated numbers: ')\n",
    "a=a.split(',')\n",
    "t=tuple(a)\n",
    "      \n",
    "print(a)\n",
    "print(t)"
   ]
  },
  {
   "cell_type": "markdown",
   "metadata": {},
   "source": [
    "#### Exercise 7\n",
    "* Given the list:\n",
    " - cities = [\"New York\", \"Shanghai\", \"Munich\", \"Tokyo\", \"Dubai\", \"Mexico City\", \"São Paulo\", \"Karachi\"]\n",
    " \n",
    " * Count the total sum of the number of occurences of letter 'a' in all cities"
   ]
  },
  {
   "cell_type": "code",
   "execution_count": 27,
   "metadata": {},
   "outputs": [
    {
     "name": "stdout",
     "output_type": "stream",
     "text": [
      "6\n",
      "6\n"
     ]
    }
   ],
   "source": [
    "cities=  [\"New York\", \"Shanghai\", \"Munich\", \"Tokyo\", \"Dubai\", \"Mexico City\", \"São Paulo\", \"Karachi\"]\n",
    "sum=0\n",
    "for i in cities:\n",
    "    for l in i:\n",
    "        if l=='a':\n",
    "            sum += 1\n",
    "print(sum)\n",
    "\n",
    "sum=0\n",
    "for city in cities:\n",
    "    sum += city.count('a')\n",
    "print(sum)"
   ]
  },
  {
   "cell_type": "markdown",
   "metadata": {},
   "source": [
    "#### Exercise 8\n",
    "* Given a list y = [[1, -1,0], [2, 5, -9],[-2,-3,0]]\n",
    "  - How would you find the count of the total number of negatives in the list"
   ]
  },
  {
   "cell_type": "code",
   "execution_count": 44,
   "metadata": {},
   "outputs": [
    {
     "name": "stdout",
     "output_type": "stream",
     "text": [
      "4\n",
      "4\n",
      "4\n"
     ]
    }
   ],
   "source": [
    "y = [[1, -1,0], [2, 5, -9],[-2,-3,0]]\n",
    "sum=0\n",
    "for sublist in y:\n",
    "    for digit in sublist:\n",
    "        if digit<0:\n",
    "            sum+=1\n",
    "print(sum)\n",
    "\n",
    "sum=0\n",
    "for sublist in y:\n",
    "    if(isinstance(sublist,list) or isinstance(sublist,tuple)):\n",
    "        for digit in sublist:\n",
    "            if digit<0:\n",
    "                sum+=1\n",
    "print(sum)\n",
    "\n",
    "\n",
    "temp = []\n",
    "for e in y:\n",
    "       if isinstance(e,list):\n",
    "                   y.extend(e)\n",
    "                   temp.append(e)\n",
    "\n",
    "for e in temp:\n",
    "       y.remove(e)\n",
    "\n",
    "count_of_negs = 0\n",
    "for e in y:\n",
    "       if e < 0:\n",
    "               count_of_negs +=1\n",
    "print(count_of_negs)"
   ]
  },
  {
   "cell_type": "markdown",
   "metadata": {},
   "source": [
    "#### Exercise 9\n",
    "* Given the string of words:\n",
    "  - words = 'Python is easy to learn. It is a popular lanuage for Data Science. Python is an interpreted language.'\n",
    "\n",
    "* Write code to store the count of each word of the given string in a dictionary and then print the counts as a list of tuples\n",
    "* Improve your code so that you don't have to check for the presence of a word in the dictionary before updating the count\n",
    "\n"
   ]
  },
  {
   "cell_type": "code",
   "execution_count": 54,
   "metadata": {},
   "outputs": [
    {
     "name": "stdout",
     "output_type": "stream",
     "text": [
      "['Python', 'is', 'easy', 'to', 'learn', 'It', 'is', 'a', 'popular', 'language', 'for', 'Data', 'Science', 'Python', 'is', 'an', 'interpreted', 'language']\n",
      "(('Python', 2), ('is', 3), ('easy', 1), ('to', 1), ('learn', 1), ('It', 1), ('a', 1), ('popular', 1), ('language', 2), ('for', 1), ('Data', 1), ('Science', 1), ('an', 1), ('interpreted', 1))\n"
     ]
    }
   ],
   "source": [
    "words = 'Python is easy to learn. It is a popular language for Data Science. Python is an interpreted language.'\n",
    "l=words.split('.')\n",
    "for e in range(0,l.count('')):\n",
    "    l.remove('')\n",
    "w=[]\n",
    "for i in range(0,len(l)):\n",
    "    w += l[i].split(' ')\n",
    "for e in range(0,w.count('')):\n",
    "    w.remove('')\n",
    "    \n",
    "print (w)\n",
    "d={}\n",
    "for i in w:\n",
    "    d.setdefault(i,0)\n",
    "    d[i]+=1\n",
    "print(tuple(d.items()))   "
   ]
  },
  {
   "cell_type": "markdown",
   "metadata": {},
   "source": [
    "#### Exercise 10\n",
    "* Program: Get a name forever ...or until done\n",
    "* Create variable, name, and assign it an empty string (\"\")\n",
    "* Use while True:\n",
    "* Ask for user input for name\n",
    "* Keep asking until the user keeps giving a non-alphabetical name (Hint: isalpha() string function)\n",
    "* Break loop and print a greeting using name"
   ]
  },
  {
   "cell_type": "code",
   "execution_count": 2,
   "metadata": {},
   "outputs": [
    {
     "name": "stdout",
     "output_type": "stream",
     "text": [
      "Enter name: jhg5\n",
      "Enter name: jjh98?\n",
      "Enter name: lkj\n",
      "Hello Lkj\n"
     ]
    }
   ],
   "source": [
    "name=\"\"\n",
    "while True:\n",
    "    name=input(\"Enter name: \")\n",
    "    if name.isalpha()==True:\n",
    "        break\n",
    "print(\"Hello\",name.capitalize())"
   ]
  },
  {
   "cell_type": "markdown",
   "metadata": {},
   "source": [
    "#### Exercise 11\n",
    "* Use while to get the user input, animal_name, of 4 animals\n",
    "* Use a counter, num_animals, in the while loop condition\n",
    "* Append the names to a string variable, all_animals\n",
    "* User can exit early by typing \"exit\" (check if animal_name is \"exit\" and break)\n",
    "* When the loop finishes, print the names of all_animals\n",
    "* Print \"no animals\" if animal_name is empty after exiting the loop\n",
    "\n",
    "* Tip: Think about Sequence and variables that need to be initialized before the while loop"
   ]
  },
  {
   "cell_type": "code",
   "execution_count": 7,
   "metadata": {},
   "outputs": [
    {
     "name": "stdout",
     "output_type": "stream",
     "text": [
      "Enter Animal Name(Type 'exit' to Exit: bandar\n",
      "Enter Animal Name(Type 'exit' to Exit: gorila\n",
      "Enter Animal Name(Type 'exit' to Exit: dog\n",
      "Enter Animal Name(Type 'exit' to Exit: cat\n",
      "All animal names are:  bandar gorila dog cat \n"
     ]
    }
   ],
   "source": [
    "animal_name=\"\"\n",
    "num_animals=0\n",
    "all_animals=\"\"\n",
    "while num_animals<4 :\n",
    "    animal_name = input(\"Enter Animal Name(Type 'exit' to Exit): \")\n",
    "    if animal_name.lower()=='exit':\n",
    "        break\n",
    "    num_animals+=1\n",
    "    all_animals+=animal_name +\" \"\n",
    "if all_animals==\"\":\n",
    "    print(\"No Animals\")\n",
    "else:\n",
    "    print(\"All animal names are: \",all_animals)  \n",
    "    \n"
   ]
  },
  {
   "cell_type": "markdown",
   "metadata": {},
   "source": [
    "#### Exercise 12\n",
    "* Create variables:\n",
    "  - int_num and get user input string of only digits\n",
    "  - long_num and initialize it as an empty string\n",
    "* Create a while loop that runs as long as the input is all digits\n",
    "* Inside the while loop\n",
    "  - add int_num to the end of long_num\n",
    "  - get user input for int_num again (inside while loop this time)\n",
    "* After the loop exits print the value of long_num"
   ]
  },
  {
   "cell_type": "code",
   "execution_count": 3,
   "metadata": {},
   "outputs": [
    {
     "name": "stdout",
     "output_type": "stream",
     "text": [
      "Enter string of digits only: 123\n",
      "Enter string of digits only: 123\n",
      "Enter string of digits only: 123\n",
      "Enter string of digits only: 12s\n",
      "123123123\n"
     ]
    }
   ],
   "source": [
    "int_num = \"\"\n",
    "long_num=\"\"\n",
    "\n",
    "int_num = (input(\"Enter string of digits only: \"))\n",
    "while(int_num.isdigit()):\n",
    "    long_num += int_num\n",
    "    int_num = (input(\"Enter string of digits only: \"))\n",
    "    \n",
    "print(long_num)    \n"
   ]
  },
  {
   "cell_type": "markdown",
   "metadata": {},
   "source": [
    "#### Exercise 13\n",
    "* Fix the error in the following code. \n",
    "* The loop should run five times.\n",
    "* Currently it never runs."
   ]
  },
  {
   "cell_type": "code",
   "execution_count": 5,
   "metadata": {},
   "outputs": [
    {
     "name": "stdout",
     "output_type": "stream",
     "text": [
      "0 x 0 = 0\n",
      "1 x 1 = 1\n",
      "2 x 2 = 4\n",
      "3 x 3 = 9\n",
      "4 x 4 = 16\n"
     ]
    }
   ],
   "source": [
    "count = 0\n",
    "while count < 5:\n",
    "    print(count, \"x\", count, \"=\", count*count)\n",
    "    count +=1"
   ]
  }
 ],
 "metadata": {
  "kernelspec": {
   "display_name": "Python 3",
   "language": "python",
   "name": "python3"
  },
  "language_info": {
   "codemirror_mode": {
    "name": "ipython",
    "version": 3
   },
   "file_extension": ".py",
   "mimetype": "text/x-python",
   "name": "python",
   "nbconvert_exporter": "python",
   "pygments_lexer": "ipython3",
   "version": "3.7.1"
  }
 },
 "nbformat": 4,
 "nbformat_minor": 2
}
