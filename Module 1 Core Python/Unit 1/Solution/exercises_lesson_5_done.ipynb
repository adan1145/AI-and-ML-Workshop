{
 "cells": [
  {
   "cell_type": "markdown",
   "metadata": {},
   "source": [
    "#### Exercise 1\n",
    "Write a generator function gen_sequence that takes a positive integer n between 1 and 10 and generates a sequence where the next number returned is the next integer multiplied by the previous one, starting from 1 till n. For example if 6 is passed, the following  sequence should be returned:\n",
    "\n",
    "1,2,6,24,120,720"
   ]
  },
  {
   "cell_type": "code",
   "execution_count": 15,
   "metadata": {},
   "outputs": [
    {
     "name": "stdout",
     "output_type": "stream",
     "text": [
      "1\n",
      "2\n",
      "6\n",
      "24\n",
      "120\n",
      "720\n"
     ]
    }
   ],
   "source": [
    "def gen_sequence(n):\n",
    "        r=1\n",
    "        for x in range(1,n+1):\n",
    "            r*=x\n",
    "            yield r\n",
    "\n",
    "for value in gen_sequence(6):\n",
    "    print(value)"
   ]
  },
  {
   "cell_type": "markdown",
   "metadata": {},
   "source": [
    "#### Exercise 2\n",
    "* Write Python code to count the number of lines in the file 'mbox-short.txt.\n",
    "* Note: Use Pathlib to create the file path"
   ]
  },
  {
   "cell_type": "code",
   "execution_count": 23,
   "metadata": {},
   "outputs": [
    {
     "name": "stdout",
     "output_type": "stream",
     "text": [
      "1910 0\n"
     ]
    }
   ],
   "source": [
    "import os\n",
    "from pathlib import Path\n",
    "\n",
    "folder = Path(\"E:\\#FAST ISL\\AI and ML\\Core Python\\datafiles\")\n",
    "myfile = folder/'mbox-short.txt'\n",
    "c=0\n",
    "count = 0\n",
    "with open(myfile,'r') as file_obj:\n",
    "    \n",
    "    for line in file_obj:\n",
    "        c+=1\n",
    "        \n",
    "    #while file_obj.readline() != \"\":\n",
    "     #   count = count + 1\n",
    "print(c,count)\n",
    "\n",
    "        \n",
    "\n",
    "\n"
   ]
  },
  {
   "cell_type": "markdown",
   "metadata": {},
   "source": [
    "#### Exercise 3\n",
    "* Write code to read all the data from the file 'mbox-short.txt as text\n",
    "* Print the last 20 characters of the file data "
   ]
  },
  {
   "cell_type": "code",
   "execution_count": 52,
   "metadata": {},
   "outputs": [
    {
     "name": "stdout",
     "output_type": "stream",
     "text": [
      "1910\n",
      "space > Preferences.\n",
      "\n"
     ]
    }
   ],
   "source": [
    "import os\n",
    "from pathlib import Path\n",
    "\n",
    "folder = Path(\"E:\\#FAST ISL\\AI and ML\\Core Python\\datafiles\")\n",
    "myfile = folder/'mbox-short.txt'\n",
    "c=0\n",
    "with open(myfile,'rt') as file_obj:\n",
    "    l = len(file_obj.readlines())\n",
    "    print(l)\n",
    "    \n",
    "with open(myfile,'rt') as file_obj:\n",
    "    for line in file_obj:\n",
    "        c=c+1\n",
    "        if(c==l-1):\n",
    "            print(line[-21:])\n",
    "            \n",
    "    \n"
   ]
  },
  {
   "cell_type": "markdown",
   "metadata": {},
   "source": [
    "#### Exercise 4\n",
    "* Write a program that opens the file 'mbox-short.txt as text\n",
    "* Reads the lines from the file skipping all lines not starting with the string 'From:'\n",
    "* Prints each line that starts with the string 'From:'\n",
    "* Use try/except clauses to catch the error if the file is not found in the folder\n",
    "* Create a test case to test the try/catch by removing the file from the folder and verifying that the exception is thrown (raised) and caught properly"
   ]
  },
  {
   "cell_type": "code",
   "execution_count": 66,
   "metadata": {},
   "outputs": [
    {
     "name": "stdout",
     "output_type": "stream",
     "text": [
      "From: stephen.marquard@uct.ac.za\n",
      "\n",
      "From: louis@media.berkeley.edu\n",
      "\n",
      "From: zqian@umich.edu\n",
      "\n",
      "From: rjlowe@iupui.edu\n",
      "\n",
      "From: zqian@umich.edu\n",
      "\n",
      "From: rjlowe@iupui.edu\n",
      "\n",
      "From: cwen@iupui.edu\n",
      "\n",
      "From: cwen@iupui.edu\n",
      "\n",
      "From: gsilver@umich.edu\n",
      "\n",
      "From: gsilver@umich.edu\n",
      "\n",
      "From: zqian@umich.edu\n",
      "\n",
      "From: gsilver@umich.edu\n",
      "\n",
      "From: wagnermr@iupui.edu\n",
      "\n",
      "From: zqian@umich.edu\n",
      "\n",
      "From: antranig@caret.cam.ac.uk\n",
      "\n",
      "From: gopal.ramasammycook@gmail.com\n",
      "\n",
      "From: david.horwitz@uct.ac.za\n",
      "\n",
      "From: david.horwitz@uct.ac.za\n",
      "\n",
      "From: david.horwitz@uct.ac.za\n",
      "\n",
      "From: david.horwitz@uct.ac.za\n",
      "\n",
      "From: stephen.marquard@uct.ac.za\n",
      "\n",
      "From: louis@media.berkeley.edu\n",
      "\n",
      "From: louis@media.berkeley.edu\n",
      "\n",
      "From: ray@media.berkeley.edu\n",
      "\n",
      "From: cwen@iupui.edu\n",
      "\n",
      "From: cwen@iupui.edu\n",
      "\n",
      "From: cwen@iupui.edu\n",
      "\n"
     ]
    }
   ],
   "source": [
    "try:\n",
    "    folder = Path(\"E:\\#FAST ISL\\AI and ML\\Core Python\\datafiles\")\n",
    "    myfile = folder/'mbox-short.txt'\n",
    "    with open(myfile,'rt') as file_obj:\n",
    "        for line in file_obj:\n",
    "            if line[0:5] == 'From:':\n",
    "                print(line)\n",
    "except IOError:\n",
    "    print (\"Error: can\\'t find file or read data\")\n",
    "    "
   ]
  },
  {
   "cell_type": "markdown",
   "metadata": {},
   "source": [
    "#### Exercise 5\n",
    "* Write a function concat_files that takes two file names as arguments\n",
    "* It reads the contents of both files\n",
    "* Concatenates the contents together so that the contents of the file passed as first argument are placed first followed by the second file's contents.\n",
    "* Stores the concatenated contents in a third file and returns the third file object\n",
    "* The name of the third file could be anything e.g. concatenated.txt\n",
    "* Create test case by first making two files and then calling the function\n",
    "* Handle exceptions for \"file not found\" as well as any exceptions that occur while reading and writing. Use proper messages when raising exceptions"
   ]
  },
  {
   "cell_type": "code",
   "execution_count": 95,
   "metadata": {},
   "outputs": [
    {
     "name": "stdout",
     "output_type": "stream",
     "text": [
      "['Hello World1\\n', 'Hello World4\\n']\n",
      "outfile.txt closed for reading\n",
      "['28.5\\n', '12.0\\n', '30\\n', '18.5\\n', '24\\n', '25.5\\n', '17.5\\n', '26\\n', '22\\n', '19\\n', '18\\n', '18\\n', '17\\n', '15\\n', '12\\n', '19\\n', '20\\n', '21\\n', '22\\n', '19\\n', '24\\n', '27\\n', '29\\n', '30\\n', '28\\n', '29\\n', '25\\n', '22\\n', '16\\n', '19\\n', '17\\n', '17\\n', '8\\n', '6\\n', '9\\n', ' \\n', '\\n']\n",
      "quiz1grades.txt closed for reading\n",
      "concatenated.txt closed for writing\n",
      "['Hello World1\\n', 'Hello World4\\n', '28.5\\n', '12.0\\n', '30\\n', '18.5\\n', '24\\n', '25.5\\n', '17.5\\n', '26\\n', '22\\n', '19\\n', '18\\n', '18\\n', '17\\n', '15\\n', '12\\n', '19\\n', '20\\n', '21\\n', '22\\n', '19\\n', '24\\n', '27\\n', '29\\n', '30\\n', '28\\n', '29\\n', '25\\n', '22\\n', '16\\n', '19\\n', '17\\n', '17\\n', '8\\n', '6\\n', '9\\n', ' \\n', '\\n']\n"
     ]
    }
   ],
   "source": [
    "import os\n",
    "from pathlib import Path\n",
    "\n",
    "def concat_files(name1,name2):\n",
    "    folder = Path(\"E:\\#FAST ISL\\AI and ML\\Core Python\\datafiles\")\n",
    "    file1 = folder/name1\n",
    "    file2 = folder/name2\n",
    "    \n",
    "    try:\n",
    "        f1_obj = open(file1,'rt')\n",
    "        try:    \n",
    "            lines1 = f1_obj.readlines()\n",
    "            print(lines1)\n",
    "        except:\n",
    "            raise ValueError(\"Error: can't read data from \" + name1)\n",
    "    except IOError:\n",
    "        raise ValueError(\"Error: can't find or open \" + name1)\n",
    "    finally:\n",
    "        f1_obj.close()\n",
    "        print(name1 + \" closed for reading\")\n",
    "        \n",
    "    try:\n",
    "        f2_obj = open(file2,'rt')\n",
    "        try:    \n",
    "            lines2 = f2_obj.readlines()\n",
    "            print(lines2)\n",
    "        except:\n",
    "            raise ValueError(\"Error: can't read data from \" + name2)\n",
    "    except IOError:\n",
    "        raise ValueError(\"Error: can't find or open \" + name2)\n",
    "    finally:\n",
    "        f2_obj.close()\n",
    "        print(name2 + \" closed for reading\")    \n",
    "    name3 = 'concatenated.txt'\n",
    "    file3 = folder/name3\n",
    "    try:\n",
    "        f3_obj = open(file3,'wt')\n",
    "        try:    \n",
    "            f3_obj.writelines(lines1)\n",
    "            f3_obj.writelines(lines2)\n",
    "        except:\n",
    "            raise ValueError(\"Error: can't write data to \" + name3)\n",
    "    except IOError:\n",
    "        raise ValueError(\"Error: can't open\" + name3)\n",
    "    finally:\n",
    "        f3_obj.close()\n",
    "        print(name3 + \" closed for writing\")\n",
    "    \n",
    "    with open(file3,'rt') as f33_obj:\n",
    "        lines3= f33_obj.readlines()\n",
    "        print(lines3)\n",
    "        \n",
    "n1 = 'outfile.txt'\n",
    "n2 = 'quiz1grades.txt'\n",
    "try:\n",
    "    concat_files(n1,n2)\n",
    "except ValueError as errorMsg:\n",
    "    print('Whoops.', errorMsg)"
   ]
  }
 ],
 "metadata": {
  "kernelspec": {
   "display_name": "Python 3",
   "language": "python",
   "name": "python3"
  },
  "language_info": {
   "codemirror_mode": {
    "name": "ipython",
    "version": 3
   },
   "file_extension": ".py",
   "mimetype": "text/x-python",
   "name": "python",
   "nbconvert_exporter": "python",
   "pygments_lexer": "ipython3",
   "version": "3.7.1"
  }
 },
 "nbformat": 4,
 "nbformat_minor": 2
}
