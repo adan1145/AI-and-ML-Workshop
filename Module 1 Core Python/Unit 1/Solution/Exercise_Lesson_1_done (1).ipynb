{
 "cells": [
  {
   "cell_type": "markdown",
   "metadata": {},
   "source": [
    "#### Exercise 1"
   ]
  },
  {
   "cell_type": "markdown",
   "metadata": {},
   "source": [
    "* Create and assign a variable called ***name*** to a string value\n",
    "* Print the value of ***name***\n",
    "* Change the variable ***name*** to a different string value (a different name)\n",
    "* Print the value of ***name*** again"
   ]
  },
  {
   "cell_type": "code",
   "execution_count": 1,
   "metadata": {},
   "outputs": [
    {
     "name": "stdout",
     "output_type": "stream",
     "text": [
      "My name is Adan\n",
      "My name is Ihtisham\n"
     ]
    }
   ],
   "source": [
    "name =\"My name is Adan\"\n",
    "print(name)\n",
    "name =\"My name is Ihtisham\"\n",
    "print(name)"
   ]
  },
  {
   "cell_type": "markdown",
   "metadata": {},
   "source": [
    "#### Exercise 2 \n",
    "* Assign an integer value to a variable called ***bucket***\n",
    "* Print the value of ***bucket***\n",
    "* Change the value of ***bucket*** to a float value\n",
    "* Print the value of bucket again\n",
    "* Print the type of the variable ***bucket***\n"
   ]
  },
  {
   "cell_type": "code",
   "execution_count": 2,
   "metadata": {},
   "outputs": [
    {
     "name": "stdout",
     "output_type": "stream",
     "text": [
      "11\n",
      "11.11\n",
      "<class 'float'>\n"
     ]
    }
   ],
   "source": [
    "bucket = 11\n",
    "print(bucket)\n",
    "bucket = 11.11\n",
    "print(bucket)\n",
    "print(type(bucket))"
   ]
  },
  {
   "cell_type": "markdown",
   "metadata": {},
   "source": [
    "#### Exercise 3\n",
    "* Print the result of a Python statement that adds 111 and 84 and then subtracts 45 and then divides the final result by 2.5\n",
    "* Print the result of adding two variables with values 21 and 4 respectively and then multiplying that sum by 4"
   ]
  },
  {
   "cell_type": "code",
   "execution_count": 4,
   "metadata": {},
   "outputs": [
    {
     "name": "stdout",
     "output_type": "stream",
     "text": [
      "60.0\n",
      "100\n"
     ]
    }
   ],
   "source": [
    "print((111+84-45)/2.5)\n",
    "a=21\n",
    "b=4\n",
    "c=a+b\n",
    "print(c*4)\n"
   ]
  },
  {
   "cell_type": "markdown",
   "metadata": {},
   "source": [
    "#### Exercise 4\n",
    "* Create two variables  of type integer and subtract them\n",
    "* Write a Python statement that implements the equation Q = X2 + 2XY + Y2. Assign some values to X and Y variables and print the result\n",
    "* Create two integer variables a and b and print the result of integer division of a and b such that the result is also an integer. Also print the remainder value of this division"
   ]
  },
  {
   "cell_type": "code",
   "execution_count": 6,
   "metadata": {},
   "outputs": [
    {
     "name": "stdout",
     "output_type": "stream",
     "text": [
      "6\n",
      "256\n",
      "2\n",
      "1\n"
     ]
    }
   ],
   "source": [
    "x=11\n",
    "y=5\n",
    "print(x-y)\n",
    "q = x**2 + 2*x*y + y**2\n",
    "print(q)\n",
    "print(x//y)\n",
    "print(x%y)"
   ]
  },
  {
   "cell_type": "markdown",
   "metadata": {},
   "source": [
    "#### Exercise 5\n",
    "* Add the following numbers using casting and print the result"
   ]
  },
  {
   "cell_type": "code",
   "execution_count": 6,
   "metadata": {
    "scrolled": true
   },
   "outputs": [
    {
     "name": "stdout",
     "output_type": "stream",
     "text": [
      "36.5\n"
     ]
    }
   ],
   "source": [
    "str_num_1 = \"11.5\"\n",
    "str_num_2 = \"15\"\n",
    "int_num_3 = 10\n",
    "r = float(str_num_1)+int(str_num_2)+int_num_3\n",
    "# print the addition of the above numbers\n",
    "print(r)"
   ]
  },
  {
   "cell_type": "markdown",
   "metadata": {},
   "source": [
    "#### Exercise 6\n",
    "* Assume that we execute the following assignment statements:\n",
    "  - width = 17\n",
    "  - height = 12.0\n",
    "\n",
    "For each of the following expressions, write the value of the expression and the\n",
    "type of the value of the expression.\n",
    "\n",
    "1. width//2\n",
    "2. width/2.0\n",
    "3. height/3\n",
    "4. 1 + 2 * 5"
   ]
  },
  {
   "cell_type": "code",
   "execution_count": 10,
   "metadata": {},
   "outputs": [
    {
     "name": "stdout",
     "output_type": "stream",
     "text": [
      "8\n",
      "<class 'int'>\n",
      "8.5\n",
      "<class 'float'>\n",
      "4.0\n",
      "<class 'float'>\n",
      "11\n",
      "<class 'int'>\n"
     ]
    }
   ],
   "source": [
    "width = 17\n",
    "height = 12.0\n",
    "\n",
    "print(width//2)\n",
    "print(type(width//2))\n",
    "print(width/2.0)\n",
    "print(type(width/2.0))\n",
    "print(height/3)\n",
    "print(type(height/3))\n",
    "print(1+2*5)\n",
    "print(type(1+2*5))"
   ]
  },
  {
   "cell_type": "markdown",
   "metadata": {},
   "source": [
    "#### Exercise 7\n",
    "* Prompt the user for a Celsius temperature, convert the temperature to Fahrenheit, and print out the converted temperature"
   ]
  },
  {
   "cell_type": "code",
   "execution_count": 13,
   "metadata": {},
   "outputs": [
    {
     "name": "stdout",
     "output_type": "stream",
     "text": [
      "Enter temperature in Celsius: 38\n",
      "Temperature in Fahrenheit is:  100.4\n"
     ]
    }
   ],
   "source": [
    "Celsius = input('Enter temperature in Celsius: ')\n",
    "F = 9/5 * float(Celsius) +32\n",
    "print('Temperature in Fahrenheit is: ',F)"
   ]
  },
  {
   "cell_type": "markdown",
   "metadata": {},
   "source": [
    "#### Exercise 8\n",
    "* Assign a string value to the variable first_name and add the string \", remember to save the notebook frequently\" to this variable with string concatenation"
   ]
  },
  {
   "cell_type": "code",
   "execution_count": 14,
   "metadata": {},
   "outputs": [
    {
     "name": "stdout",
     "output_type": "stream",
     "text": [
      "Muhammad, remmeber to save the notebook frequently\n"
     ]
    }
   ],
   "source": [
    "first_name = \"Muhammad\"\n",
    "print(first_name + \", remmeber to save the notebook frequently\")"
   ]
  },
  {
   "cell_type": "markdown",
   "metadata": {},
   "source": [
    "#### Exercise 9\n",
    "* Combine a sting, an integer and a float value in a print statement that uses comma separated format instead of '+' style concatenation"
   ]
  },
  {
   "cell_type": "code",
   "execution_count": 15,
   "metadata": {},
   "outputs": [
    {
     "name": "stdout",
     "output_type": "stream",
     "text": [
      "Adan is 25 year old or maybe 25.5\n"
     ]
    }
   ],
   "source": [
    "print(\"Adan is\",25,\"year old or maybe\", 25.5)"
   ]
  },
  {
   "cell_type": "markdown",
   "metadata": {},
   "source": [
    "#### Exercise 10\n",
    "* Combine a sting, an integer and a float value in a print statement that uses  format()"
   ]
  },
  {
   "cell_type": "code",
   "execution_count": 18,
   "metadata": {},
   "outputs": [
    {
     "name": "stdout",
     "output_type": "stream",
     "text": [
      "Adan is 25 year old or maybe 25.5 25.5\n"
     ]
    }
   ],
   "source": [
    "name ='Adan'\n",
    "print(\"{} is {} year old or maybe {} 25.5\".format(name,25,25.5))"
   ]
  },
  {
   "cell_type": "markdown",
   "metadata": {},
   "source": [
    "#### Exercise 11\n",
    "* Get user input for a street name in the variable, ***street***\n",
    "* Get user input for a street number in the variable, ***st_number***\n",
    "* Display a message about the ***street*** and ***st_number***\n",
    "\n"
   ]
  },
  {
   "cell_type": "code",
   "execution_count": 19,
   "metadata": {},
   "outputs": [
    {
     "name": "stdout",
     "output_type": "stream",
     "text": [
      "Enter street: OB bay\n",
      "Enter st_number: 32\n",
      "you live in OB bay whose street number is 32\n"
     ]
    }
   ],
   "source": [
    "street = input(\"Enter street: \")\n",
    "st_number = input(\"Enter st_number: \")\n",
    "print(\"you live in {} and street number is {}\".format(street,st_number))"
   ]
  },
  {
   "cell_type": "markdown",
   "metadata": {},
   "source": [
    "#### Exercise 12\n",
    "* Get input of 2 integer numbers\n",
    "* Multiply the two numbers by casting the input and print the input followed by the result"
   ]
  },
  {
   "cell_type": "code",
   "execution_count": 9,
   "metadata": {},
   "outputs": [
    {
     "name": "stdout",
     "output_type": "stream",
     "text": [
      "Enter integer1: 11\n",
      "Enter integer2: 5\n",
      "11 * 5 = 55\n"
     ]
    }
   ],
   "source": [
    "a=input(\"Enter integer1: \")\n",
    "b=input(\"Enter integer2: \")\n",
    "c= int(a)*int(b)\n",
    "print(a,'*',b,'=',c) "
   ]
  },
  {
   "cell_type": "markdown",
   "metadata": {},
   "source": [
    "#### Exercise 13\n",
    "Create a program that prints out a reservation for a training class. Gather the name of the party, the number attending and the time.\n",
    "\n",
    "Example of what input/output might look like: \n",
    "\n",
    "    enter name for contact person for training group : Core Python Unit 1\n",
    "\n",
    "    enter the total number attending the course: 10\n",
    "\n",
    "    enter the training time selected: 10:00 am  \n",
    "\n",
    "    Reminder: training is schedule at 10:00 am for Core Python Unit 1 with 25 attendees\n",
    "\n",
    "    Please arrive 10 minutes early for the first class\n",
    "\n",
    "* Get user input for variables:\n",
    "    \n",
    "    - owner: name of person the reservation is for\n",
    "    - num_people: how many are attending \n",
    "    - training_time: class time\n",
    "    \n",
    "* Create an integer variable min_early: number of minutes early the party should arrive using comma separated formatting, and then print the reminder text\n",
    "* Use all of the variables in the text\n",
    "* Use additional strings as needed\n",
    "* Use multiple print statements to format message on multiple lines"
   ]
  },
  {
   "cell_type": "code",
   "execution_count": 26,
   "metadata": {},
   "outputs": [
    {
     "name": "stdout",
     "output_type": "stream",
     "text": [
      "Enter name of the training: Core Python 1\n",
      "Enter number of people attending: 20\n",
      "Enter the training time selected: 10:00 am\n",
      "\n",
      "Training is schedule at 10:00 am for Core Python 1 with 20 attendees\n",
      "\n",
      "Please arrive 15 minutes early for the first class\n"
     ]
    }
   ],
   "source": [
    "owner = input(\"Enter name of the training class: \")\n",
    "num_people = input(\"Enter number of people attending: \")\n",
    "training_time = input(\"Enter the training time selected: \")\n",
    "print(\"\\nTraining is schedule at {} for {} with {} attendees\".format(training_time,owner,num_people))\n",
    "# TODO: create a integer variable min_early and \"hard code\" the integer value (e.g. - 5, 10 or 15)\n",
    "min_early = 15\n",
    "# TODO: print reminder text using all variables & add additional strings -  use comma separated print formatting\n",
    "print(\"\\nPlease arrive {} minutes early for the first class\".format(min_early))\n"
   ]
  }
 ],
 "metadata": {
  "kernelspec": {
   "display_name": "Python 3",
   "language": "python",
   "name": "python3"
  },
  "language_info": {
   "codemirror_mode": {
    "name": "ipython",
    "version": 3
   },
   "file_extension": ".py",
   "mimetype": "text/x-python",
   "name": "python",
   "nbconvert_exporter": "python",
   "pygments_lexer": "ipython3",
   "version": "3.7.1"
  }
 },
 "nbformat": 4,
 "nbformat_minor": 2
}
