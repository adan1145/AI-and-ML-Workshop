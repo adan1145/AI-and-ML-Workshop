{
 "cells": [
  {
   "cell_type": "markdown",
   "metadata": {},
   "source": [
    "#### Exercise 1\n",
    "Write a generator function gen_sequence that takes a positive integer n between 1 and 10 and generates a sequence where the next number returned is the next integer multiplied by the previous one, starting from 1 till n. For example if 6 is passed, the following  sequence should be returned:\n",
    "\n",
    "1,2,6,24,120,720"
   ]
  },
  {
   "cell_type": "code",
   "execution_count": null,
   "metadata": {},
   "outputs": [],
   "source": []
  },
  {
   "cell_type": "markdown",
   "metadata": {},
   "source": [
    "#### Exercise 2\n",
    "* Write Python code to count the number of lines in the file 'mbox-short.txt.\n",
    "* Note: Use Pathlib to create the file path"
   ]
  },
  {
   "cell_type": "code",
   "execution_count": null,
   "metadata": {},
   "outputs": [],
   "source": []
  },
  {
   "cell_type": "markdown",
   "metadata": {},
   "source": [
    "#### Exercise 3\n",
    "* Write code to read all the data from the file 'mbox-short.txt as text\n",
    "* Print the last 20 characters of the file data "
   ]
  },
  {
   "cell_type": "code",
   "execution_count": null,
   "metadata": {},
   "outputs": [],
   "source": []
  },
  {
   "cell_type": "markdown",
   "metadata": {},
   "source": [
    "#### Exercise 4\n",
    "* Write a program that opens the file 'mbox-short.txt as text\n",
    "* Reads the lines from the file skipping all lines not starting with the string 'From:'\n",
    "* Prints each line that starts with the string 'From:'\n",
    "* Use try/except clauses to catch the error if the file is not found in the folder\n",
    "* Create a test case to test the try/catch by removing the file from the folder and verifying that the exception is thrown (raised) and caught properly"
   ]
  },
  {
   "cell_type": "code",
   "execution_count": null,
   "metadata": {},
   "outputs": [],
   "source": []
  },
  {
   "cell_type": "markdown",
   "metadata": {},
   "source": [
    "#### Exercise 5\n",
    "* Write a function concat_files that takes two file names as arguments\n",
    "* It reads the contents of both files\n",
    "* Concatenates the contents together so that the contents of the file passed as first argument are placed first followed by the second file's contents.\n",
    "* Stores the concatenated contents in a third file and returns the third file object\n",
    "* The name of the third file could be anything e.g. concatenated.txt\n",
    "* Create test case by first making two files and then calling the function\n",
    "* Handle exceptions for \"file not found\" as well as any exceptions that occur while reading and writing. Use proper messages when raising exceptions"
   ]
  },
  {
   "cell_type": "code",
   "execution_count": null,
   "metadata": {},
   "outputs": [],
   "source": []
  }
 ],
 "metadata": {
  "kernelspec": {
   "display_name": "Python 3",
   "language": "python",
   "name": "python3"
  },
  "language_info": {
   "codemirror_mode": {
    "name": "ipython",
    "version": 3
   },
   "file_extension": ".py",
   "mimetype": "text/x-python",
   "name": "python",
   "nbconvert_exporter": "python",
   "pygments_lexer": "ipython3",
   "version": "3.6.4"
  }
 },
 "nbformat": 4,
 "nbformat_minor": 2
}
