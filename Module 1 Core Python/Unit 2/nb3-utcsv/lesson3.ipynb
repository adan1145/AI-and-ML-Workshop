{
 "cells": [
  {
   "cell_type": "markdown",
   "metadata": {},
   "source": [
    "## Unit Testing, Handling CSV Files\n",
    "* Using the Unittest Package\n",
    "* Handling CSV Files\n",
    "\n",
    "### http://dreamai.io/files/m1u2/nb3-utcsv.zip\n"
   ]
  },
  {
   "cell_type": "markdown",
   "metadata": {},
   "source": [
    "### Unittest concepts"
   ]
  },
  {
   "cell_type": "markdown",
   "metadata": {},
   "source": [
    "\n",
    "**Test Fixture** – A Python class used to set up a test environment and pre-requisites and tear it down when the test is finished. For example, you might need to create a temporary database before the test can be run and destroy it after the test finishes.\n",
    "\n",
    "**Test Case** – This is your actual test. It will typically check (or assert) that a specific response comes from a specific set of inputs to the object being tested (function, object or class-method etc.). The unittest framework provides a base class called **TestCase** that you can use to create new test cases.\n",
    "\n",
    "**Test Suite** – This is a collection of test cases, test suites or both (meaning that a Test Suite may contain other Test Suites which may contain actual Test Cases.\n",
    "\n",
    "**Test Runner** – This controls the running of the tests or suites. It also provides the outcome to the user (i.e. did the tests pass or fail). A runner can use a graphical user interface or be a simple text interface."
   ]
  },
  {
   "cell_type": "code",
   "execution_count": null,
   "metadata": {},
   "outputs": [],
   "source": [
    "!python -m unittest -h"
   ]
  },
  {
   "cell_type": "code",
   "execution_count": null,
   "metadata": {},
   "outputs": [],
   "source": [
    "!python -m unittest test_mathops.py -v"
   ]
  },
  {
   "cell_type": "code",
   "execution_count": null,
   "metadata": {},
   "outputs": [],
   "source": [
    "!python -m unittest test_mathops.TestAdd.test_add_integers -v"
   ]
  },
  {
   "cell_type": "code",
   "execution_count": null,
   "metadata": {},
   "outputs": [],
   "source": [
    "!python -m unittest test_mathops.TestAdd -v"
   ]
  },
  {
   "cell_type": "code",
   "execution_count": null,
   "metadata": {},
   "outputs": [],
   "source": [
    "!python -m unittest test_mathops2.TestAdd -v"
   ]
  },
  {
   "cell_type": "markdown",
   "metadata": {},
   "source": [
    "### Handling CSV and other data Files"
   ]
  },
  {
   "cell_type": "code",
   "execution_count": null,
   "metadata": {},
   "outputs": [],
   "source": [
    "# open the file temperature_data.csv\n",
    "# read each line\n",
    "# use strip() function to remove leading and training spaces in each line\n",
    "# use string's replace method to replace '\\n' with ''\n",
    "# use string's split method to split on ','\n",
    "# create a list of lines parsed with the above operations consisting of words\n",
    "# chain each function/method call and use list comprehension to create your list\n"
   ]
  },
  {
   "cell_type": "code",
   "execution_count": null,
   "metadata": {},
   "outputs": [],
   "source": [
    "import csv\n",
    "data = [line for line in csv.reader(open(\"temperature_data.csv\", newline=''), delimiter=\",\")]\n",
    "data"
   ]
  },
  {
   "cell_type": "code",
   "execution_count": null,
   "metadata": {},
   "outputs": [],
   "source": [
    "data2 = [line for line in csv.reader(open(\"temperature_isb.csv\",newline=''))]\n",
    "data2"
   ]
  },
  {
   "cell_type": "markdown",
   "metadata": {},
   "source": [
    "#### Using CSV DictReader\n",
    "If the data is particularly complex, and specific fields need to be manipulated, a\n",
    "DictReader can make it much easier to be sure you’re getting the right field; it also makes your code somewhat easier to understand. \n",
    "\n",
    "Conversely, if your data set is quite large, you need to keep in mind that DictReader can take on the order of twice as long to read the same amount of data.\n",
    "\n",
    "(ref: The Quick Python Book 3rd Edition: Naomi Ceder--Manning Pub)"
   ]
  },
  {
   "cell_type": "code",
   "execution_count": null,
   "metadata": {},
   "outputs": [],
   "source": [
    "data3 = [line for line in csv.DictReader(open(\"temperature_isb.csv\",newline=''))]\n",
    "data3"
   ]
  },
  {
   "cell_type": "code",
   "execution_count": null,
   "metadata": {},
   "outputs": [],
   "source": [
    "data3[0]"
   ]
  },
  {
   "cell_type": "code",
   "execution_count": null,
   "metadata": {},
   "outputs": [],
   "source": [
    "data3[8]['City']"
   ]
  },
  {
   "cell_type": "code",
   "execution_count": null,
   "metadata": {},
   "outputs": [],
   "source": [
    "data3[10][None]"
   ]
  },
  {
   "cell_type": "code",
   "execution_count": null,
   "metadata": {},
   "outputs": [],
   "source": []
  }
 ],
 "metadata": {
  "kernelspec": {
   "display_name": "Python 3",
   "language": "python",
   "name": "python3"
  },
  "language_info": {
   "codemirror_mode": {
    "name": "ipython",
    "version": 3
   },
   "file_extension": ".py",
   "mimetype": "text/x-python",
   "name": "python",
   "nbconvert_exporter": "python",
   "pygments_lexer": "ipython3",
   "version": "3.5.2"
  }
 },
 "nbformat": 4,
 "nbformat_minor": 2
}
